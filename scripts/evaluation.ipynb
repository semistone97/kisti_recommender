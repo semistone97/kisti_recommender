{
 "cells": [
  {
   "cell_type": "markdown",
   "id": "0954a3c0",
   "metadata": {},
   "source": [
    "# 연관성 점수 계산 평가"
   ]
  },
  {
   "cell_type": "markdown",
   "id": "42db9418",
   "metadata": {},
   "source": [
    "## 평가용 데이터"
   ]
  },
  {
   "cell_type": "code",
   "execution_count": 34,
   "id": "11c0bfb2",
   "metadata": {},
   "outputs": [
    {
     "name": "stdout",
     "output_type": "stream",
     "text": [
      "한국인의 3차원 무릎관절 구축 및 형상 측정\n",
      "It is necessary to have a model that describes the feature of the knee Joint with a sufficient accuracy. Koreans, however, do not have their own knee joint model to be used in the total knee replacement arthroplasty. They have to use European or American models which do not match Koreans. Three-dimensional visualization techniques are found to be useful in a wide range of medical applications. Three-dimensional imaging studies such as CT(computed tomography) and MRI(magnetic resonance image) provide the primary source of patient-specific data. Three-dimensional knee joint models were constructed by image processing of the CT data of 10 subjects. Using the constructed model, the dimensions of Korean knee joint were measured. And this study proposed a three-dimensional model and data, which can be helpful to develop Korean knee implants and to analyze knee joint movements.\n",
      "단층촬영사진 . 한국인 무릎 관절 모델 . 인공 관절 치환술\n"
     ]
    }
   ],
   "source": [
    "# title, description, keyword\n",
    "import json\n",
    "\n",
    "with open(\"input_data.json\", \"r\", encoding=\"utf-8\") as f:\n",
    "    input_data = json.load(f)\n",
    "\n",
    "try:\n",
    "    title = input_data['dataset_title_etc_main']\n",
    "    description = input_data['dataset_expl_etc_main']\n",
    "    keyword = input_data['dataset_expl_etc_main']\n",
    "    input_id = input_data['svc_id']\n",
    "\n",
    "except:\n",
    "    items = input_data[\"MetaData\"][\"recordList\"][\"record\"][\"item\"]\n",
    "    title = next(i[\"#text\"] for i in items if i[\"@metaCode\"] == \"Title\")\n",
    "    description = next(i[\"#text\"] for i in items if i[\"@metaCode\"] == \"Abstract\")\n",
    "    keyword = next(i[\"#text\"] for i in items if i[\"@metaCode\"] == \"Keyword\")\n",
    "    input_id = next(i[\"#text\"] for i in items if i[\"@metaCode\"] == \"CN\")\n",
    "    \n",
    "state = {'title': title, 'description': description, 'keyword': keyword, 'input_id': input_id}\n",
    "\n",
    "print(title)\n",
    "print(description)\n",
    "print(keyword)\n"
   ]
  },
  {
   "cell_type": "code",
   "execution_count": 45,
   "id": "16f01dd8",
   "metadata": {},
   "outputs": [],
   "source": [
    "# data\n",
    "import pandas as pd\n",
    "import json\n",
    "\n",
    "df_article = pd.read_csv('search_results_article.csv', encoding='UTF-8', low_memory=False)\n",
    "df_data = pd.read_csv('search_results_dataset.csv', encoding='UTF-8', low_memory=False)\n",
    "\n",
    "cleaned_df_data = (\n",
    "    df_data[\n",
    "        ['svc_id', 'dataset_title_etc_main', 'dataset_expl_etc_main','dataset_pub_dt_pc', 'dataset_kywd_etc_main', 'dataset_creator_etc_main', 'dataset_lndgpg', 'query']\n",
    "    ]\n",
    "    .rename(\n",
    "        columns={\n",
    "            'svc_id': 'ID',\n",
    "            'dataset_title_etc_main': 'title',\n",
    "            'dataset_expl_etc_main': 'description',\n",
    "            'dataset_pub_dt_pc': 'pubyear',\n",
    "            'dataset_kywd_etc_main': 'keyword',\n",
    "            'dataset_creator_etc_main': 'author',\n",
    "            'dataset_lndgpg': 'URL',\n",
    "        }\n",
    "    )\n",
    ")\n",
    "cleaned_df_data['category'] = 'dataset'\n",
    "\n",
    "cleaned_df_arti = (\n",
    "    df_article[\n",
    "        ['CN', 'Title', 'Abstract', 'Pubyear', 'Keyword', 'Author', 'ContentURL', 'query']\n",
    "    ]\n",
    "    .rename(\n",
    "        columns={\n",
    "            'CN': 'ID',\n",
    "            'Title': 'title',\n",
    "            'Abstract': 'description',\n",
    "            'Pubyear': 'pubyear',\n",
    "            'Keyword': 'keyword',\n",
    "            'Author': 'author',\n",
    "            'ContentURL': 'URL'\n",
    "        }\n",
    "    )\n",
    ")\n",
    "cleaned_df_arti['category'] = 'article'\n",
    "\n",
    "original_df = pd.concat([cleaned_df_arti, cleaned_df_data], ignore_index=True)\n",
    "\n",
    "original_df.loc[[0, 5, 10], 'relevance_check'] = True\n",
    "\n",
    "with open('search_data.json', 'w', encoding='utf-8') as f:\n",
    "    json.dump(original_df.to_dict(orient='records'), f, ensure_ascii=False, indent=4)"
   ]
  },
  {
   "cell_type": "code",
   "execution_count": 46,
   "id": "64beec1d",
   "metadata": {},
   "outputs": [],
   "source": [
    "# json에서 받아오기\n",
    "with open('search_data.json', 'r', encoding='utf-8') as f:\n",
    "    original_df = pd.DataFrame(json.load(f))"
   ]
  },
  {
   "cell_type": "markdown",
   "id": "aa78618e",
   "metadata": {},
   "source": [
    "## 연관성 점수 계산 코드"
   ]
  },
  {
   "cell_type": "code",
   "execution_count": 36,
   "id": "3f8cb92a",
   "metadata": {},
   "outputs": [
    {
     "name": "stdout",
     "output_type": "stream",
     "text": [
      "\n",
      "[embedding_title]\n"
     ]
    },
    {
     "name": "stderr",
     "output_type": "stream",
     "text": [
      "100%|██████████| 1/1 [00:02<00:00,  2.17s/it]\n"
     ]
    },
    {
     "name": "stdout",
     "output_type": "stream",
     "text": [
      "\n",
      "[embedding_description]\n"
     ]
    },
    {
     "name": "stderr",
     "output_type": "stream",
     "text": [
      "100%|██████████| 1/1 [00:01<00:00,  1.44s/it]\n"
     ]
    },
    {
     "name": "stdout",
     "output_type": "stream",
     "text": [
      "\n",
      "[embedding_keyword]\n"
     ]
    },
    {
     "name": "stderr",
     "output_type": "stream",
     "text": [
      "100%|██████████| 1/1 [00:01<00:00,  1.11s/it]\n"
     ]
    },
    {
     "data": {
      "application/vnd.microsoft.datawrangler.viewer.v0+json": {
       "columns": [
        {
         "name": "index",
         "rawType": "int64",
         "type": "integer"
        },
        {
         "name": "ID",
         "rawType": "object",
         "type": "string"
        },
        {
         "name": "relevance",
         "rawType": "float32",
         "type": "float"
        }
       ],
       "ref": "ca8283e9-58d3-41b2-bee1-e1c1528f959e",
       "rows": [
        [
         "0",
         "DIKO0010027329",
         "92.396706"
        ],
        [
         "1",
         "NART73608690",
         "53.66078"
        ],
        [
         "2",
         "NART51664194",
         "51.526726"
        ],
        [
         "3",
         "f1bd34e52434a57a01b9ab55a6670891",
         "51.36689"
        ],
        [
         "4",
         "NPAP13253595",
         "50.31488"
        ],
        [
         "5",
         "NART116074894",
         "48.32846"
        ],
        [
         "6",
         "NART92905321",
         "47.86539"
        ],
        [
         "7",
         "7ce0df55f74ec28dcb81928845f63ec4",
         "46.194683"
        ],
        [
         "8",
         "NART68187596",
         "46.16715"
        ],
        [
         "9",
         "90fdbc2e1fd69bafb7e5cff6ea228f15",
         "45.372944"
        ],
        [
         "10",
         "DIKO0016389705",
         "37.81711"
        ],
        [
         "11",
         "JAKO200833338752147",
         "34.032734"
        ],
        [
         "12",
         "NART113471648",
         "32.84053"
        ],
        [
         "13",
         "NART49492815",
         "32.786"
        ],
        [
         "14",
         "NPAP05272315",
         "31.777"
        ],
        [
         "15",
         "NART37654746",
         "31.597149"
        ],
        [
         "16",
         "NPAP07132146",
         "31.597149"
        ],
        [
         "17",
         "JAKO201031559286671",
         "31.184202"
        ],
        [
         "18",
         "NPAP03864489",
         "30.945885"
        ],
        [
         "19",
         "NART56362566",
         "30.709452"
        ],
        [
         "20",
         "NART74557425",
         "17.351734"
        ],
        [
         "21",
         "NART99506110",
         "15.455622"
        ],
        [
         "22",
         "NPAP13526087",
         "15.135586"
        ],
        [
         "23",
         "7a5b76beb845448d44c0b1c3a55cf0b9",
         "14.60309"
        ],
        [
         "24",
         "JAKO201625653103325",
         "14.338207"
        ],
        [
         "25",
         "JAKO201722647666902",
         "14.326125"
        ],
        [
         "26",
         "NART110774807",
         "13.819159"
        ],
        [
         "27",
         "NART37692760",
         "13.740343"
        ],
        [
         "28",
         "12df8d19d16003d5bf43993737875a0a",
         "13.654697"
        ],
        [
         "29",
         "f71f3557652a5e523bcf897e3379f290",
         "13.221365"
        ],
        [
         "30",
         "NART135717037",
         "12.613911"
        ],
        [
         "31",
         "837caaa3b35c289d75b30fb0ed925e2f",
         "12.608832"
        ],
        [
         "32",
         "NART74050161",
         "12.309021"
        ],
        [
         "33",
         "NART56222242",
         "2.369362"
        ],
        [
         "34",
         "DIKO0008965599",
         "2.2752345"
        ],
        [
         "35",
         "NART73932359",
         "2.0107388"
        ],
        [
         "36",
         "756dac2bd8659bb9af75ec6db0e84d32",
         "2.0058095"
        ],
        [
         "37",
         "NART126172693",
         "1.9571722"
        ],
        [
         "38",
         "NART48216932",
         "1.9004643"
        ]
       ],
       "shape": {
        "columns": 2,
        "rows": 39
       }
      },
      "text/html": [
       "<div>\n",
       "<style scoped>\n",
       "    .dataframe tbody tr th:only-of-type {\n",
       "        vertical-align: middle;\n",
       "    }\n",
       "\n",
       "    .dataframe tbody tr th {\n",
       "        vertical-align: top;\n",
       "    }\n",
       "\n",
       "    .dataframe thead th {\n",
       "        text-align: right;\n",
       "    }\n",
       "</style>\n",
       "<table border=\"1\" class=\"dataframe\">\n",
       "  <thead>\n",
       "    <tr style=\"text-align: right;\">\n",
       "      <th></th>\n",
       "      <th>ID</th>\n",
       "      <th>relevance</th>\n",
       "    </tr>\n",
       "  </thead>\n",
       "  <tbody>\n",
       "    <tr>\n",
       "      <th>0</th>\n",
       "      <td>DIKO0010027329</td>\n",
       "      <td>92.396706</td>\n",
       "    </tr>\n",
       "    <tr>\n",
       "      <th>1</th>\n",
       "      <td>NART73608690</td>\n",
       "      <td>53.660782</td>\n",
       "    </tr>\n",
       "    <tr>\n",
       "      <th>2</th>\n",
       "      <td>NART51664194</td>\n",
       "      <td>51.526726</td>\n",
       "    </tr>\n",
       "    <tr>\n",
       "      <th>3</th>\n",
       "      <td>f1bd34e52434a57a01b9ab55a6670891</td>\n",
       "      <td>51.366890</td>\n",
       "    </tr>\n",
       "    <tr>\n",
       "      <th>4</th>\n",
       "      <td>NPAP13253595</td>\n",
       "      <td>50.314880</td>\n",
       "    </tr>\n",
       "    <tr>\n",
       "      <th>5</th>\n",
       "      <td>NART116074894</td>\n",
       "      <td>48.328461</td>\n",
       "    </tr>\n",
       "    <tr>\n",
       "      <th>6</th>\n",
       "      <td>NART92905321</td>\n",
       "      <td>47.865391</td>\n",
       "    </tr>\n",
       "    <tr>\n",
       "      <th>7</th>\n",
       "      <td>7ce0df55f74ec28dcb81928845f63ec4</td>\n",
       "      <td>46.194683</td>\n",
       "    </tr>\n",
       "    <tr>\n",
       "      <th>8</th>\n",
       "      <td>NART68187596</td>\n",
       "      <td>46.167149</td>\n",
       "    </tr>\n",
       "    <tr>\n",
       "      <th>9</th>\n",
       "      <td>90fdbc2e1fd69bafb7e5cff6ea228f15</td>\n",
       "      <td>45.372944</td>\n",
       "    </tr>\n",
       "    <tr>\n",
       "      <th>10</th>\n",
       "      <td>DIKO0016389705</td>\n",
       "      <td>37.817108</td>\n",
       "    </tr>\n",
       "    <tr>\n",
       "      <th>11</th>\n",
       "      <td>JAKO200833338752147</td>\n",
       "      <td>34.032734</td>\n",
       "    </tr>\n",
       "    <tr>\n",
       "      <th>12</th>\n",
       "      <td>NART113471648</td>\n",
       "      <td>32.840530</td>\n",
       "    </tr>\n",
       "    <tr>\n",
       "      <th>13</th>\n",
       "      <td>NART49492815</td>\n",
       "      <td>32.785999</td>\n",
       "    </tr>\n",
       "    <tr>\n",
       "      <th>14</th>\n",
       "      <td>NPAP05272315</td>\n",
       "      <td>31.777000</td>\n",
       "    </tr>\n",
       "    <tr>\n",
       "      <th>15</th>\n",
       "      <td>NART37654746</td>\n",
       "      <td>31.597149</td>\n",
       "    </tr>\n",
       "    <tr>\n",
       "      <th>16</th>\n",
       "      <td>NPAP07132146</td>\n",
       "      <td>31.597149</td>\n",
       "    </tr>\n",
       "    <tr>\n",
       "      <th>17</th>\n",
       "      <td>JAKO201031559286671</td>\n",
       "      <td>31.184202</td>\n",
       "    </tr>\n",
       "    <tr>\n",
       "      <th>18</th>\n",
       "      <td>NPAP03864489</td>\n",
       "      <td>30.945885</td>\n",
       "    </tr>\n",
       "    <tr>\n",
       "      <th>19</th>\n",
       "      <td>NART56362566</td>\n",
       "      <td>30.709452</td>\n",
       "    </tr>\n",
       "    <tr>\n",
       "      <th>20</th>\n",
       "      <td>NART74557425</td>\n",
       "      <td>17.351734</td>\n",
       "    </tr>\n",
       "    <tr>\n",
       "      <th>21</th>\n",
       "      <td>NART99506110</td>\n",
       "      <td>15.455622</td>\n",
       "    </tr>\n",
       "    <tr>\n",
       "      <th>22</th>\n",
       "      <td>NPAP13526087</td>\n",
       "      <td>15.135586</td>\n",
       "    </tr>\n",
       "    <tr>\n",
       "      <th>23</th>\n",
       "      <td>7a5b76beb845448d44c0b1c3a55cf0b9</td>\n",
       "      <td>14.603090</td>\n",
       "    </tr>\n",
       "    <tr>\n",
       "      <th>24</th>\n",
       "      <td>JAKO201625653103325</td>\n",
       "      <td>14.338207</td>\n",
       "    </tr>\n",
       "    <tr>\n",
       "      <th>25</th>\n",
       "      <td>JAKO201722647666902</td>\n",
       "      <td>14.326125</td>\n",
       "    </tr>\n",
       "    <tr>\n",
       "      <th>26</th>\n",
       "      <td>NART110774807</td>\n",
       "      <td>13.819159</td>\n",
       "    </tr>\n",
       "    <tr>\n",
       "      <th>27</th>\n",
       "      <td>NART37692760</td>\n",
       "      <td>13.740343</td>\n",
       "    </tr>\n",
       "    <tr>\n",
       "      <th>28</th>\n",
       "      <td>12df8d19d16003d5bf43993737875a0a</td>\n",
       "      <td>13.654697</td>\n",
       "    </tr>\n",
       "    <tr>\n",
       "      <th>29</th>\n",
       "      <td>f71f3557652a5e523bcf897e3379f290</td>\n",
       "      <td>13.221365</td>\n",
       "    </tr>\n",
       "    <tr>\n",
       "      <th>30</th>\n",
       "      <td>NART135717037</td>\n",
       "      <td>12.613911</td>\n",
       "    </tr>\n",
       "    <tr>\n",
       "      <th>31</th>\n",
       "      <td>837caaa3b35c289d75b30fb0ed925e2f</td>\n",
       "      <td>12.608832</td>\n",
       "    </tr>\n",
       "    <tr>\n",
       "      <th>32</th>\n",
       "      <td>NART74050161</td>\n",
       "      <td>12.309021</td>\n",
       "    </tr>\n",
       "    <tr>\n",
       "      <th>33</th>\n",
       "      <td>NART56222242</td>\n",
       "      <td>2.369362</td>\n",
       "    </tr>\n",
       "    <tr>\n",
       "      <th>34</th>\n",
       "      <td>DIKO0008965599</td>\n",
       "      <td>2.275234</td>\n",
       "    </tr>\n",
       "    <tr>\n",
       "      <th>35</th>\n",
       "      <td>NART73932359</td>\n",
       "      <td>2.010739</td>\n",
       "    </tr>\n",
       "    <tr>\n",
       "      <th>36</th>\n",
       "      <td>756dac2bd8659bb9af75ec6db0e84d32</td>\n",
       "      <td>2.005810</td>\n",
       "    </tr>\n",
       "    <tr>\n",
       "      <th>37</th>\n",
       "      <td>NART126172693</td>\n",
       "      <td>1.957172</td>\n",
       "    </tr>\n",
       "    <tr>\n",
       "      <th>38</th>\n",
       "      <td>NART48216932</td>\n",
       "      <td>1.900464</td>\n",
       "    </tr>\n",
       "  </tbody>\n",
       "</table>\n",
       "</div>"
      ],
      "text/plain": [
       "                                  ID  relevance\n",
       "0                     DIKO0010027329  92.396706\n",
       "1                       NART73608690  53.660782\n",
       "2                       NART51664194  51.526726\n",
       "3   f1bd34e52434a57a01b9ab55a6670891  51.366890\n",
       "4                       NPAP13253595  50.314880\n",
       "5                      NART116074894  48.328461\n",
       "6                       NART92905321  47.865391\n",
       "7   7ce0df55f74ec28dcb81928845f63ec4  46.194683\n",
       "8                       NART68187596  46.167149\n",
       "9   90fdbc2e1fd69bafb7e5cff6ea228f15  45.372944\n",
       "10                    DIKO0016389705  37.817108\n",
       "11               JAKO200833338752147  34.032734\n",
       "12                     NART113471648  32.840530\n",
       "13                      NART49492815  32.785999\n",
       "14                      NPAP05272315  31.777000\n",
       "15                      NART37654746  31.597149\n",
       "16                      NPAP07132146  31.597149\n",
       "17               JAKO201031559286671  31.184202\n",
       "18                      NPAP03864489  30.945885\n",
       "19                      NART56362566  30.709452\n",
       "20                      NART74557425  17.351734\n",
       "21                      NART99506110  15.455622\n",
       "22                      NPAP13526087  15.135586\n",
       "23  7a5b76beb845448d44c0b1c3a55cf0b9  14.603090\n",
       "24               JAKO201625653103325  14.338207\n",
       "25               JAKO201722647666902  14.326125\n",
       "26                     NART110774807  13.819159\n",
       "27                      NART37692760  13.740343\n",
       "28  12df8d19d16003d5bf43993737875a0a  13.654697\n",
       "29  f71f3557652a5e523bcf897e3379f290  13.221365\n",
       "30                     NART135717037  12.613911\n",
       "31  837caaa3b35c289d75b30fb0ed925e2f  12.608832\n",
       "32                      NART74050161  12.309021\n",
       "33                      NART56222242   2.369362\n",
       "34                    DIKO0008965599   2.275234\n",
       "35                      NART73932359   2.010739\n",
       "36  756dac2bd8659bb9af75ec6db0e84d32   2.005810\n",
       "37                     NART126172693   1.957172\n",
       "38                      NART48216932   1.900464"
      ]
     },
     "metadata": {},
     "output_type": "display_data"
    }
   ],
   "source": [
    "from langchain_openai import OpenAIEmbeddings\n",
    "from langchain_community.vectorstores import FAISS\n",
    "from langchain.schema import Document\n",
    "import pandas as pd\n",
    "from tqdm import tqdm\n",
    "\n",
    "targets = ['title', 'description', 'keyword']\n",
    "\n",
    "MAX_LENGTH = 2000\n",
    "\n",
    "dfs = {}\n",
    "\n",
    "for target in targets:\n",
    "    print(f'\\n[embedding_{target}]')\n",
    "    \n",
    "    original_df[target] = original_df[target].fillna('')\n",
    "    original_df[target] = original_df[target].str.slice(0, MAX_LENGTH)\n",
    "\n",
    "    texts = original_df[target].tolist()\n",
    "\n",
    "    embeddings = OpenAIEmbeddings(model=\"text-embedding-3-small\")\n",
    "\n",
    "    docs = [Document(page_content=text, metadata={\"ID\": row.ID}) \n",
    "            for text, row in zip(texts, original_df.itertuples())]\n",
    "\n",
    "    batch_size = 500\n",
    "    stores = []\n",
    "    for i in tqdm(range(0, len(docs), batch_size)):\n",
    "        batch = docs[i:i+batch_size]\n",
    "        store = FAISS.from_documents(batch, embeddings)\n",
    "        stores.append(store)\n",
    "\n",
    "    vectorstore = stores[0]\n",
    "    for s in stores[1:]:\n",
    "        vectorstore.merge_from(s)\n",
    "\n",
    "    query = state[target]\n",
    "    query_embedding = embeddings.embed_query(query)\n",
    "\n",
    "    results_with_score = vectorstore.similarity_search_with_score_by_vector(query_embedding, k=20)\n",
    "    \n",
    "    dfs[f'df_{target}'] = pd.DataFrame([\n",
    "        {\n",
    "            \"ID\": r.metadata.get(\"ID\"),\n",
    "            \"relevance\": score,\n",
    "            \"target\": target\n",
    "        }\n",
    "        for r, score in results_with_score\n",
    "    ])\n",
    "    \n",
    "merged_df = dfs['df_title'].merge(\n",
    "    dfs['df_description'][[\"ID\", \"relevance\"]], \n",
    "    on=\"ID\",\n",
    "    how=\"outer\",\n",
    "    suffixes=(\"_title\", \"_desc\")\n",
    ").merge(\n",
    "    dfs['df_keyword'][[\"ID\", \"relevance\"]].rename(columns={\"relevance\": \"relevance_key\"}), \n",
    "    on=\"ID\",\n",
    "    how=\"outer\"\n",
    ")\n",
    "\n",
    "merged_df = merged_df.fillna(2.0)\n",
    "\n",
    "merged_df = merged_df.drop_duplicates(subset='ID')\n",
    "\n",
    "merged_df = merged_df[merged_df['ID'] != state['input_id']]\n",
    "\n",
    "# 2. 가중치 합산\n",
    "a, b, c = 10, 3, 1\n",
    "merged_df[\"relevance_raw\"] = (\n",
    "    merged_df[\"relevance_title\"] * a + \n",
    "    merged_df[\"relevance_desc\"] * b + \n",
    "    merged_df[\"relevance_key\"] * c\n",
    ") / (a + b + c)\n",
    "\n",
    "merged_df[\"relevance\"] = 100 * (1 - merged_df[\"relevance_raw\"] / 2)\n",
    "\n",
    "result_df = (merged_df[[\"ID\", \"relevance\"]]\n",
    "            .sort_values(\"relevance\", ascending=False)\n",
    "            .reset_index(drop=True))\n",
    "\n",
    "# result_df.to_csv('../data/relevance_results.csv', index=False, encoding='utf-8')\n",
    "\n",
    "display(result_df)"
   ]
  },
  {
   "cell_type": "markdown",
   "id": "58673709",
   "metadata": {},
   "source": [
    "## Recall@10 평가 결과"
   ]
  },
  {
   "cell_type": "code",
   "execution_count": 44,
   "id": "b8bbc503",
   "metadata": {},
   "outputs": [
    {
     "name": "stdout",
     "output_type": "stream",
     "text": [
      "Recall@10: 0.0693\n"
     ]
    }
   ],
   "source": [
    "df_true = original_df[['ID', 'relevance_check']]\n",
    "\n",
    "true_ids = df_true[df_true[\"relevance_check\"]==True][\"ID\"].tolist()\n",
    "pred_ids = result_df['ID'].tolist()\n",
    "\n",
    "k = 10\n",
    "topk_pred = pred_ids[:k]\n",
    "\n",
    "hit = len(set(topk_pred) & set(true_ids))\n",
    "recall_at_k = hit / len(true_ids) if len(true_ids) > 0 else 0\n",
    "\n",
    "\n",
    "print(f\"Recall@{k}: {recall_at_k:.4f}\")"
   ]
  }
 ],
 "metadata": {
  "kernelspec": {
   "display_name": "venv (3.13.2)",
   "language": "python",
   "name": "python3"
  },
  "language_info": {
   "codemirror_mode": {
    "name": "ipython",
    "version": 3
   },
   "file_extension": ".py",
   "mimetype": "text/x-python",
   "name": "python",
   "nbconvert_exporter": "python",
   "pygments_lexer": "ipython3",
   "version": "3.13.2"
  }
 },
 "nbformat": 4,
 "nbformat_minor": 5
}
