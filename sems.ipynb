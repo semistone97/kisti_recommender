{
 "cells": [
  {
   "cell_type": "code",
   "execution_count": 2,
   "id": "3be869b2",
   "metadata": {},
   "outputs": [
    {
     "name": "stdout",
     "output_type": "stream",
     "text": [
      "HTTP 200\n",
      "{'response': {'elapsed time': '64 ms', 'status': '200', 'message': 'OK', 'total count': 66, 'type': 'json', 'key': '6C11A55E68008F87B101FCC4D448C05A', 'query': 'metaverse', 'from': 0, 'size': 1}, 'records': [{'svc_id': '14b816427011f4fd5e49f8e7f292bd85', 'ctlg_type': '02', 'dataset_type': '02', 'ctlg_type_pc': 'dataset', 'dataset_type_pc': '해외', 'dataset_pub_dt_pc': '2025', 'dataset_access_type_pc': '공개', 'file_yn_pc': '랜딩페이지이동', 'dataset_cc_license_pc': 'none', 'dataset_main_lang_pc': 'English', 'dataset_sub_lang_pc': 'none', 'cltfm_pc': 'HARVARD Dataverse', 'dataset_title_kor': '', 'dataset_title_etc_main': 'The Annunaki Codex: A Decentralized History of Civilization', 'dataset_title_etc_sub': '', 'dataset_expl_kor': '', 'dataset_expl_etc_main': \"The Annunaki Codex: A Decentralized History of Civilization by Tothan Atlantos offers a visionary exploration of humanity's past, present, and future, blending ancient mythology, groundbreaking cosmological theories, and revolutionary technological paradigms. Delving deep into the enigmatic lore of the Annunaki-legendary cosmic architects-this compelling volume intricately connects age-old wisdom with contemporary developments in artificial intelligence, blockchain, Web3 technologies, and decentralized governance. Drawing extensively upon the transformative theories of Dr. Justin Goldston, this illuminating work introduces readers to pioneering concepts such as AI-Augmented Neuroplasticity, the Hope Diamond Paradox, and the Infinite Cycle Theory. Readers will discover how human civilization's evolution is inherently cyclical, fractal, and decentralized, influenced profoundly by cosmic insights and technological advancements. Explore a diverse array of profound topics, including: The mysterious origins and advanced cosmological achievements attributed to the Annunaki. Fascinating parallels between ancient cosmic knowledge and modern fusion plasma physics. The evolutionary impact of blockchain and decentralized frameworks on genetic and cultural developments. The metaverse envisioned as humanity's New Eden, powered by recursive intelligence and ethical AI governance. Essential practical and philosophical preparations for humanity's imminent journey beyond our solar system. The Annunaki Codex is more than a book; it is a roadmap for a decentralized future where humanity harnesses ancient wisdom and cutting-edge technologies to assume its rightful role as cosmic stewards. A must-read for futurists, historians, technologists, and philosophers passionate about shaping humanity's journey into an interconnected and interstellar civilization.\", 'dataset_expl_etc_sub': '', 'dataset_kywd_kor': '', 'dataset_kywd_etc_main': '', 'dataset_kywd_etc_sub': '', 'cltfm_kor': '', 'cltfm_etc': 'HARVARD Dataverse', 'dataset_data_loc': '{coordinates:[0.0,0.0],type:point}', 'dataset_lndgpg': 'https://doi.org/10.7910/DVN/WG86BT', 'dataset_lndgpg_img': '', 'dataset_lndgpg_thum': '', 'dataset_doi': '10.7910/DVN/WG86BT', 'dataset_etc_attr': '', 'dataset_regist_dt': '2025-04-28 17:48:15', 'dataset_creat_dt': '2025-04-15', 'dataset_mod_dt': '0001-01-01 00:00:00', 'dataset_mnsb_pc': ['Astronomy and Astrophysics', 'Computer and Information Science'], 'file_frmt_pc': ['none'], 'pjt_prfrm_org_pc': ['none'], 'ministry_pc': ['none'], 'dataset_creator_kor': [], 'dataset_creator_etc_main': ['Goldston, Justin', 'Gemach D.A.T.A. I', 'Ari'], 'dataset_creator_etc_sub': [], 'pjt_prfrm_org_kor': [], 'pjt_prfrm_org_etc': [], 'ministry_kor': [], 'ministry_etc': [], 'pjt_nm_kor': [], 'pjt_nm_etc': [], 'pjt_mngr_kor': [], 'pjt_mngr_etc': [], 'dataset_cntrbtr_kor': [], 'dataset_cntrbtr_etc': ['Goldston, Justin'], 'dataset_pblshr': ['Harvard Dataverse'], 'dataset_pric': []}]}\n",
      "1\n"
     ]
    }
   ],
   "source": [
    "import os, requests\n",
    "from dotenv import load_dotenv\n",
    "\n",
    "load_dotenv()\n",
    "API_KEY = os.getenv(\"DATAON_API_KEY\")\n",
    "assert API_KEY and API_KEY.strip(), \"환경변수(DATAON_API_KEY)가 비어있어요!\"\n",
    "\n",
    "url = \"https://dataon.kisti.re.kr/rest/api/search/dataset/\"\n",
    "params = {\"key\": API_KEY, \"query\": \"metaverse\", \"from\": 0, \"size\": 1}\n",
    "# key / CHAR / 필수 / API_KEY\n",
    "# query / CHAR / 필수 / 검색키워드\n",
    "# from / CHAR / 옵션 / 페이지시작위치\n",
    "# size / CHAR / 옵션 / 페이지사이즈\n",
    "\n",
    "# print(\"🔎 호출 URL 미리보기:\", requests.Request('GET', url, params=params).prepare().url)\n",
    "res = requests.get(url, params=params, timeout=20)\n",
    "print(\"HTTP\", res.status_code)\n",
    "data = res.json()\n",
    "print(data)\n",
    "print(len(data['records']))"
   ]
  },
  {
   "cell_type": "markdown",
   "id": "97c03e56",
   "metadata": {},
   "source": []
  }
 ],
 "metadata": {
  "kernelspec": {
   "display_name": "venv",
   "language": "python",
   "name": "python3"
  },
  "language_info": {
   "codemirror_mode": {
    "name": "ipython",
    "version": 3
   },
   "file_extension": ".py",
   "mimetype": "text/x-python",
   "name": "python",
   "nbconvert_exporter": "python",
   "pygments_lexer": "ipython3",
   "version": "3.13.2"
  }
 },
 "nbformat": 4,
 "nbformat_minor": 5
}
