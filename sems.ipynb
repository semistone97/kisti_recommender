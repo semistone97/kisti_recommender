{
 "cells": [
  {
   "cell_type": "code",
   "execution_count": 9,
   "id": "3be869b2",
   "metadata": {},
   "outputs": [
    {
     "name": "stdout",
     "output_type": "stream",
     "text": [
      "🔎 호출 URL 미리보기: https://dataon.kisti.re.kr/rest/api/search/dataset/?key=6C11A55E68008F87B101FCC4D448C05A&query=covid&from=0&size=1\n",
      "HTTP 200\n",
      "{\"response\":{\"elapsed time\":\"58 ms\",\"status\":\"200\",\"message\":\"OK\",\"total count\":28496,\"type\":\"json\",\"key\":\"6C11A55E68008F87B101FCC4D448C05A\",\"query\":\"covid\",\"from\":0,\"size\":1},\"records\":[{\"svc_id\":\"1df589755d3ed6a2b7caee86b0b700f6\",\"ctlg_type\":\"02\",\"dataset_type\":\"02\",\"ctlg_type_pc\":\"dataset\",\"dataset_type_pc\":\"해외\",\"dataset_pub_dt_pc\":\"2027\",\"dataset_access_type_pc\":\"공개\",\"file_yn_pc\":\"랜딩페이지이동\",\"dataset_cc_license_pc\":\"CC-BY-4.0\",\"dataset_main_lang_pc\":\"English\",\"dataset_sub_lang_pc\":\"none\",\"cltf\n"
     ]
    }
   ],
   "source": [
    "import os, requests\n",
    "from dotenv import load_dotenv\n",
    "\n",
    "load_dotenv()\n",
    "API_KEY = os.getenv(\"DATAON_API_KEY\")\n",
    "assert API_KEY and API_KEY.strip(), \"환경변수(DATAON_API_KEY)가 비어있어요!\"\n",
    "\n",
    "url = \"https://dataon.kisti.re.kr/rest/api/search/dataset/\"\n",
    "params = {\"key\": API_KEY, \"query\": \"covid\", \"from\": 0, \"size\": 1}\n",
    "\n",
    "print(\"🔎 호출 URL 미리보기:\", requests.Request('GET', url, params=params).prepare().url)\n",
    "res = requests.get(url, params=params, timeout=20)\n",
    "print(\"HTTP\", res.status_code)\n",
    "print(res.text[:500])"
   ]
  }
 ],
 "metadata": {
  "kernelspec": {
   "display_name": "venv",
   "language": "python",
   "name": "python3"
  },
  "language_info": {
   "codemirror_mode": {
    "name": "ipython",
    "version": 3
   },
   "file_extension": ".py",
   "mimetype": "text/x-python",
   "name": "python",
   "nbconvert_exporter": "python",
   "pygments_lexer": "ipython3",
   "version": "3.13.2"
  }
 },
 "nbformat": 4,
 "nbformat_minor": 5
}
