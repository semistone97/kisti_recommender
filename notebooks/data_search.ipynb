{
 "cells": [
  {
   "cell_type": "markdown",
   "id": "57cfebf0",
   "metadata": {},
   "source": [
    "# 데이터셋 - 쿼리에 따른 검색"
   ]
  },
  {
   "cell_type": "markdown",
   "id": "e28fe1c1",
   "metadata": {},
   "source": [
    "## 작동 방식"
   ]
  },
  {
   "cell_type": "code",
   "execution_count": 2,
   "id": "86528e1c",
   "metadata": {},
   "outputs": [],
   "source": [
    "# 예시 데이터\n",
    "\n",
    "# query\n",
    "with open('../data/queries.txt', 'r', encoding='utf-8') as f:\n",
    "    queries = [line.strip() for line in f if line.strip()]"
   ]
  },
  {
   "cell_type": "code",
   "execution_count": 4,
   "id": "16f20f3f",
   "metadata": {},
   "outputs": [
    {
     "name": "stdout",
     "output_type": "stream",
     "text": [
      "\n",
      "[total dataset length]\n",
      " 55\n"
     ]
    },
    {
     "data": {
      "application/vnd.microsoft.datawrangler.viewer.v0+json": {
       "columns": [
        {
         "name": "index",
         "rawType": "int64",
         "type": "integer"
        },
        {
         "name": "ID",
         "rawType": "object",
         "type": "string"
        },
        {
         "name": "title",
         "rawType": "object",
         "type": "string"
        },
        {
         "name": "description",
         "rawType": "object",
         "type": "string"
        },
        {
         "name": "pubyear",
         "rawType": "object",
         "type": "string"
        },
        {
         "name": "keyword",
         "rawType": "object",
         "type": "string"
        },
        {
         "name": "author",
         "rawType": "object",
         "type": "unknown"
        },
        {
         "name": "URL",
         "rawType": "object",
         "type": "string"
        },
        {
         "name": "query",
         "rawType": "object",
         "type": "string"
        },
        {
         "name": "category",
         "rawType": "object",
         "type": "string"
        }
       ],
       "ref": "040bd52c-170b-439c-82bf-3f5da427d961",
       "rows": [
        [
         "0",
         "21f86dd1deb83eec4fa6dc7fa58e0259",
         "Gravity Core from Antarctic ROSS Sea (RS25-GC06)",
         "2024/2025 Gravity core, Ross Sea (Little American Basin), Antarctic Climate change observation. Location : 77°45.4167'S, 161°40.7972'W Water Depth : 685m Core Length : 2.72m",
         "2025",
         "EARTH SCIENCE;OCEANS;MARINE SEDIMENTS;SEDIMENTATION",
         "['(kangmi@kopri.re.kr)']",
         "https://dx.doi.org/doi:10.22663/KOPRI-KPDC-00002801.1",
         "Ross Sea core",
         "dataset"
        ],
        [
         "1",
         "bf558835530cb7b39d706b800eeb186e",
         "Gravity Core from Antarctic ROSS Sea (RS25-GC04)",
         "2024/2025 Gravity core, Ross Sea (Little American Basin), Antarctic Climate change observation. Location : 75°22.0137'S, 163°25.2740'W Water Depth : 3300m Core Length : 5.33m",
         "2025",
         "EARTH SCIENCE;OCEANS;MARINE SEDIMENTS;SEDIMENTATION",
         "['(kangmi@kopri.re.kr)']",
         "https://dx.doi.org/doi:10.22663/KOPRI-KPDC-00002799.1",
         "Ross Sea core",
         "dataset"
        ],
        [
         "2",
         "ad0056511f46859c6af080414380a82b",
         "Gravity Core from Antarctic Ross Sea (RS19-GC20)",
         "2018/2019 Gravity core, Ross Sea, Antarctic Climate change observation. Location : 71°12.4886'S,177°28.2817'E Water Depth : 2592m Core Length : 6.85m",
         "2025",
         "EARTH SCIENCE;OCEANS;MARINE SEDIMENTS;SEDIMENTATION",
         "['Hyo Jin Kim(hyojink@kopri.re.kr)']",
         "https://dx.doi.org/doi:10.22663/KOPRI-KPDC-00002850.1",
         "Ross Sea core",
         "dataset"
        ],
        [
         "3",
         "3164743e90350a466a75553600f3aa93",
         "Gravity Core from Antarctic Ross Sea (RS19-GC17)",
         "2018/2019 Gravity core, Ross Sea, Antarctic Climate change observation. Location : 67°38.9743'S, 173°44.7072'E Water Depth : 3235m Core Length : 6.00m",
         "2025",
         "EARTH SCIENCE;OCEANS;MARINE SEDIMENTS;SEDIMENTATION",
         "['Hyo Jin Kim(hyojink@kopri.re.kr)']",
         "https://dx.doi.org/doi:10.22663/KOPRI-KPDC-00002848.1",
         "Ross Sea core",
         "dataset"
        ],
        [
         "4",
         "a380666c4cb468ef2e3473eb5faa47f5",
         "Gravity Core from Antarctic Ross Sea (RS19-GC19)",
         "2018/2019 Gravity core, Ross Sea, Antarctic Climate change observation. Location : 68°31.8789'S, 174°06.2233'E Water Depth : 3661m Core Length : 8.99m",
         "2025",
         "EARTH SCIENCE;OCEANS;MARINE SEDIMENTS;SEDIMENTATION",
         "['Hyo Jin Kim(hyojink@kopri.re.kr)']",
         "https://dx.doi.org/doi:10.22663/KOPRI-KPDC-00002849.1",
         "Ross Sea core",
         "dataset"
        ]
       ],
       "shape": {
        "columns": 9,
        "rows": 5
       }
      },
      "text/html": [
       "<div>\n",
       "<style scoped>\n",
       "    .dataframe tbody tr th:only-of-type {\n",
       "        vertical-align: middle;\n",
       "    }\n",
       "\n",
       "    .dataframe tbody tr th {\n",
       "        vertical-align: top;\n",
       "    }\n",
       "\n",
       "    .dataframe thead th {\n",
       "        text-align: right;\n",
       "    }\n",
       "</style>\n",
       "<table border=\"1\" class=\"dataframe\">\n",
       "  <thead>\n",
       "    <tr style=\"text-align: right;\">\n",
       "      <th></th>\n",
       "      <th>ID</th>\n",
       "      <th>title</th>\n",
       "      <th>description</th>\n",
       "      <th>pubyear</th>\n",
       "      <th>keyword</th>\n",
       "      <th>author</th>\n",
       "      <th>URL</th>\n",
       "      <th>query</th>\n",
       "      <th>category</th>\n",
       "    </tr>\n",
       "  </thead>\n",
       "  <tbody>\n",
       "    <tr>\n",
       "      <th>0</th>\n",
       "      <td>21f86dd1deb83eec4fa6dc7fa58e0259</td>\n",
       "      <td>Gravity Core from Antarctic ROSS Sea (RS25-GC06)</td>\n",
       "      <td>2024/2025 Gravity core, Ross Sea (Little Ameri...</td>\n",
       "      <td>2025</td>\n",
       "      <td>EARTH SCIENCE;OCEANS;MARINE SEDIMENTS;SEDIMENT...</td>\n",
       "      <td>[(kangmi@kopri.re.kr)]</td>\n",
       "      <td>https://dx.doi.org/doi:10.22663/KOPRI-KPDC-000...</td>\n",
       "      <td>Ross Sea core</td>\n",
       "      <td>dataset</td>\n",
       "    </tr>\n",
       "    <tr>\n",
       "      <th>1</th>\n",
       "      <td>bf558835530cb7b39d706b800eeb186e</td>\n",
       "      <td>Gravity Core from Antarctic ROSS Sea (RS25-GC04)</td>\n",
       "      <td>2024/2025 Gravity core, Ross Sea (Little Ameri...</td>\n",
       "      <td>2025</td>\n",
       "      <td>EARTH SCIENCE;OCEANS;MARINE SEDIMENTS;SEDIMENT...</td>\n",
       "      <td>[(kangmi@kopri.re.kr)]</td>\n",
       "      <td>https://dx.doi.org/doi:10.22663/KOPRI-KPDC-000...</td>\n",
       "      <td>Ross Sea core</td>\n",
       "      <td>dataset</td>\n",
       "    </tr>\n",
       "    <tr>\n",
       "      <th>2</th>\n",
       "      <td>ad0056511f46859c6af080414380a82b</td>\n",
       "      <td>Gravity Core from Antarctic Ross Sea (RS19-GC20)</td>\n",
       "      <td>2018/2019 Gravity core, Ross Sea, Antarctic Cl...</td>\n",
       "      <td>2025</td>\n",
       "      <td>EARTH SCIENCE;OCEANS;MARINE SEDIMENTS;SEDIMENT...</td>\n",
       "      <td>[Hyo Jin Kim(hyojink@kopri.re.kr)]</td>\n",
       "      <td>https://dx.doi.org/doi:10.22663/KOPRI-KPDC-000...</td>\n",
       "      <td>Ross Sea core</td>\n",
       "      <td>dataset</td>\n",
       "    </tr>\n",
       "    <tr>\n",
       "      <th>3</th>\n",
       "      <td>3164743e90350a466a75553600f3aa93</td>\n",
       "      <td>Gravity Core from Antarctic Ross Sea (RS19-GC17)</td>\n",
       "      <td>2018/2019 Gravity core, Ross Sea, Antarctic Cl...</td>\n",
       "      <td>2025</td>\n",
       "      <td>EARTH SCIENCE;OCEANS;MARINE SEDIMENTS;SEDIMENT...</td>\n",
       "      <td>[Hyo Jin Kim(hyojink@kopri.re.kr)]</td>\n",
       "      <td>https://dx.doi.org/doi:10.22663/KOPRI-KPDC-000...</td>\n",
       "      <td>Ross Sea core</td>\n",
       "      <td>dataset</td>\n",
       "    </tr>\n",
       "    <tr>\n",
       "      <th>4</th>\n",
       "      <td>a380666c4cb468ef2e3473eb5faa47f5</td>\n",
       "      <td>Gravity Core from Antarctic Ross Sea (RS19-GC19)</td>\n",
       "      <td>2018/2019 Gravity core, Ross Sea, Antarctic Cl...</td>\n",
       "      <td>2025</td>\n",
       "      <td>EARTH SCIENCE;OCEANS;MARINE SEDIMENTS;SEDIMENT...</td>\n",
       "      <td>[Hyo Jin Kim(hyojink@kopri.re.kr)]</td>\n",
       "      <td>https://dx.doi.org/doi:10.22663/KOPRI-KPDC-000...</td>\n",
       "      <td>Ross Sea core</td>\n",
       "      <td>dataset</td>\n",
       "    </tr>\n",
       "  </tbody>\n",
       "</table>\n",
       "</div>"
      ],
      "text/plain": [
       "                                 ID  \\\n",
       "0  21f86dd1deb83eec4fa6dc7fa58e0259   \n",
       "1  bf558835530cb7b39d706b800eeb186e   \n",
       "2  ad0056511f46859c6af080414380a82b   \n",
       "3  3164743e90350a466a75553600f3aa93   \n",
       "4  a380666c4cb468ef2e3473eb5faa47f5   \n",
       "\n",
       "                                              title  \\\n",
       "0  Gravity Core from Antarctic ROSS Sea (RS25-GC06)   \n",
       "1  Gravity Core from Antarctic ROSS Sea (RS25-GC04)   \n",
       "2  Gravity Core from Antarctic Ross Sea (RS19-GC20)   \n",
       "3  Gravity Core from Antarctic Ross Sea (RS19-GC17)   \n",
       "4  Gravity Core from Antarctic Ross Sea (RS19-GC19)   \n",
       "\n",
       "                                         description pubyear  \\\n",
       "0  2024/2025 Gravity core, Ross Sea (Little Ameri...    2025   \n",
       "1  2024/2025 Gravity core, Ross Sea (Little Ameri...    2025   \n",
       "2  2018/2019 Gravity core, Ross Sea, Antarctic Cl...    2025   \n",
       "3  2018/2019 Gravity core, Ross Sea, Antarctic Cl...    2025   \n",
       "4  2018/2019 Gravity core, Ross Sea, Antarctic Cl...    2025   \n",
       "\n",
       "                                             keyword  \\\n",
       "0  EARTH SCIENCE;OCEANS;MARINE SEDIMENTS;SEDIMENT...   \n",
       "1  EARTH SCIENCE;OCEANS;MARINE SEDIMENTS;SEDIMENT...   \n",
       "2  EARTH SCIENCE;OCEANS;MARINE SEDIMENTS;SEDIMENT...   \n",
       "3  EARTH SCIENCE;OCEANS;MARINE SEDIMENTS;SEDIMENT...   \n",
       "4  EARTH SCIENCE;OCEANS;MARINE SEDIMENTS;SEDIMENT...   \n",
       "\n",
       "                               author  \\\n",
       "0              [(kangmi@kopri.re.kr)]   \n",
       "1              [(kangmi@kopri.re.kr)]   \n",
       "2  [Hyo Jin Kim(hyojink@kopri.re.kr)]   \n",
       "3  [Hyo Jin Kim(hyojink@kopri.re.kr)]   \n",
       "4  [Hyo Jin Kim(hyojink@kopri.re.kr)]   \n",
       "\n",
       "                                                 URL          query category  \n",
       "0  https://dx.doi.org/doi:10.22663/KOPRI-KPDC-000...  Ross Sea core  dataset  \n",
       "1  https://dx.doi.org/doi:10.22663/KOPRI-KPDC-000...  Ross Sea core  dataset  \n",
       "2  https://dx.doi.org/doi:10.22663/KOPRI-KPDC-000...  Ross Sea core  dataset  \n",
       "3  https://dx.doi.org/doi:10.22663/KOPRI-KPDC-000...  Ross Sea core  dataset  \n",
       "4  https://dx.doi.org/doi:10.22663/KOPRI-KPDC-000...  Ross Sea core  dataset  "
      ]
     },
     "metadata": {},
     "output_type": "display_data"
    }
   ],
   "source": [
    "import os, requests\n",
    "import pandas as pd\n",
    "from dotenv import load_dotenv\n",
    "\n",
    "load_dotenv(override=True)\n",
    "\n",
    "API_KEY = os.getenv(\"DATAON_SEARCH_API_KEY\")\n",
    "assert API_KEY and API_KEY.strip(), \"환경변수(DATAON_API_KEY)가 비어있어요!\"\n",
    "\n",
    "url = \"https://dataon.kisti.re.kr/rest/api/search/dataset/\"\n",
    "df = pd.DataFrame()\n",
    "for query in queries:\n",
    "    params = {\"key\": API_KEY, \"query\": query, \"from\": 0, \"size\": 20}\n",
    "    # key / CHAR / 필수 / API_KEY\n",
    "    # query / CHAR / 필수 / 검색키워드\n",
    "    # from / CHAR / 옵션 / 페이지시작위치\n",
    "    # size / CHAR / 옵션 / 페이지사이즈\n",
    "\n",
    "    res = requests.get(url, params=params, timeout=20)\n",
    "    data = res.json()\n",
    "    \n",
    "    if \"records\" in data:\n",
    "        tmp = pd.DataFrame(data[\"records\"])\n",
    "        tmp[\"query\"] = query\n",
    "        df = pd.concat([df, tmp], ignore_index=True)\n",
    "\n",
    "df = df.drop_duplicates(subset='svc_id')\n",
    "df.to_csv('../data/search_results_dataset.csv', index=False, encoding='utf-8')\n",
    "print('\\n[total dataset length]\\n', len(df))\n",
    "\n",
    "cleaned_df = (\n",
    "    df[\n",
    "        ['svc_id', 'dataset_title_etc_main', 'dataset_expl_etc_main','dataset_pub_dt_pc', 'dataset_kywd_etc_main', 'dataset_creator_etc_main', 'dataset_lndgpg', 'query']\n",
    "    ]\n",
    "    .rename(\n",
    "        columns={\n",
    "            'svc_id': 'ID',\n",
    "            'dataset_title_etc_main': 'title',\n",
    "            'dataset_expl_etc_main': 'description',\n",
    "            'dataset_pub_dt_pc': 'pubyear',\n",
    "            'dataset_kywd_etc_main': 'keyword',\n",
    "            'dataset_creator_etc_main': 'author',\n",
    "            'dataset_lndgpg': 'URL',\n",
    "        }\n",
    "    )\n",
    ")\n",
    "\n",
    "cleaned_df['category'] = 'dataset'\n",
    "\n",
    "display(cleaned_df.head())"
   ]
  }
 ],
 "metadata": {
  "kernelspec": {
   "display_name": "venv (3.13.2)",
   "language": "python",
   "name": "python3"
  },
  "language_info": {
   "codemirror_mode": {
    "name": "ipython",
    "version": 3
   },
   "file_extension": ".py",
   "mimetype": "text/x-python",
   "name": "python",
   "nbconvert_exporter": "python",
   "pygments_lexer": "ipython3",
   "version": "3.13.2"
  }
 },
 "nbformat": 4,
 "nbformat_minor": 5
}
