{
 "cells": [
  {
   "cell_type": "markdown",
   "id": "49aa0c94",
   "metadata": {},
   "source": [
    "## 검색어 생성"
   ]
  },
  {
   "cell_type": "code",
   "execution_count": 1,
   "id": "8cd90a01",
   "metadata": {},
   "outputs": [],
   "source": [
    "# Schema\n",
    "from typing_extensions import Annotated\n",
    "from pydantic import Field, BaseModel\n",
    "\n",
    "class QueryResult(BaseModel):\n",
    "    query: Annotated[\n",
    "        list[str],\n",
    "        Field(\n",
    "            ..., \n",
    "            max_items=5, \n",
    "            min_items=3,\n",
    "            description=\"가장 적절한 검색어들의 리스트, 길이 최소 3개/최대 5개\", \n",
    "        )\n",
    "    ]"
   ]
  },
  {
   "cell_type": "code",
   "execution_count": 2,
   "id": "45ab5f0b",
   "metadata": {},
   "outputs": [],
   "source": [
    "# 프롬프트\n",
    "from langchain_core.prompts import PromptTemplate\n",
    "\n",
    "query_template = '''\n",
    "주어진 제목과 설명을 바탕으로, 가장 연관성이 높은 논문과 데이터셋을 검색하려 합니다.\n",
    "\n",
    "가장 의미적으로 관련성이 높은 논문과 데이터셋을 검색할 수 있을 쿼리를 만들어 주세요.\n",
    "\n",
    "[조건]\n",
    "1. 쿼리는 2~3단어로 구성되어야 합니다.\n",
    "2. 검색 방식은 쿼리와 정확히 일치하는 내용이 있는 논문이나 데이터를 반환하는 형식입니다.\n",
    "\n",
    "[Input]\n",
    "연구 주제: {subject}\n",
    "연구 설명: {description}\n",
    "\n",
    "[Output]\n",
    "가장 적절한 3~5개의 쿼리를 JSON으로 출력해주세요.\n",
    "'''\n",
    "\n",
    "query_prompt = PromptTemplate.from_template(query_template)"
   ]
  },
  {
   "cell_type": "code",
   "execution_count": 3,
   "id": "61b3b287",
   "metadata": {},
   "outputs": [
    {
     "name": "stdout",
     "output_type": "stream",
     "text": [
      "['Architectural Urbanism', 'Melbourne Seoul', 'KTA projects', 'public architecture', 'civic architecture']\n"
     ]
    }
   ],
   "source": [
    "from langchain_openai import ChatOpenAI\n",
    "import json\n",
    "\n",
    "with open(\"../data/input_data.json\", \"r\", encoding=\"utf-8\") as f:\n",
    "    input_data = json.load(f)\n",
    "\n",
    "subject, description = input_data['dataset_title_etc_main'], input_data['dataset_expl_etc_main']\n",
    "\n",
    "prompt = query_prompt.invoke(\n",
    "    {\n",
    "        'subject': subject, \n",
    "        'description': description,\n",
    "    }\n",
    ")\n",
    "\n",
    "# sLLM\n",
    "sllm = ChatOpenAI(model='gpt-4o-mini', temperature=0)\n",
    "\n",
    "structured_sllm = sllm.with_structured_output(QueryResult)\n",
    "res = structured_sllm.invoke(prompt)\n",
    "\n",
    "print(res.query)"
   ]
  }
 ],
 "metadata": {
  "kernelspec": {
   "display_name": "venv",
   "language": "python",
   "name": "python3"
  },
  "language_info": {
   "codemirror_mode": {
    "name": "ipython",
    "version": 3
   },
   "file_extension": ".py",
   "mimetype": "text/x-python",
   "name": "python",
   "nbconvert_exporter": "python",
   "pygments_lexer": "ipython3",
   "version": "3.13.2"
  }
 },
 "nbformat": 4,
 "nbformat_minor": 5
}
