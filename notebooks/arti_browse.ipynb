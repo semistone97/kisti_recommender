{
 "cells": [
  {
   "cell_type": "markdown",
   "id": "e57d323b",
   "metadata": {},
   "source": [
    "# 논문 - 제목, 초록, 키워드 가져오기"
   ]
  },
  {
   "cell_type": "markdown",
   "id": "f4f22ef9",
   "metadata": {},
   "source": [
    "## 논문 호출용 클래스 및 함수 정의"
   ]
  },
  {
   "cell_type": "code",
   "execution_count": 1,
   "id": "cf38c0c7",
   "metadata": {},
   "outputs": [],
   "source": [
    "import base64\n",
    "from Crypto.Cipher import AES\n",
    "\n",
    "class AESTestClass:\n",
    "    def __init__(self, plain_txt, key):\n",
    "        # iv, block_size 값은 고정\n",
    "        self.iv = 'jvHJ1EFA0IXBrxxz'\n",
    "        self.block_size = 16\n",
    "        self.plain_txt = plain_txt\n",
    "        self.key = key\n",
    "\n",
    "    def pad(self):\n",
    "        # PKCS#7 패딩\n",
    "        number_of_bytes_to_pad = self.block_size - len(self.plain_txt) % self.block_size\n",
    "        ascii_str = chr(number_of_bytes_to_pad)\n",
    "        padding_str = number_of_bytes_to_pad * ascii_str\n",
    "        return self.plain_txt + padding_str\n",
    "\n",
    "    def encrypt(self):\n",
    "        cipher = AES.new(self.key.encode('utf-8'), AES.MODE_CBC, self.iv.encode('utf-8'))\n",
    "        padded_txt = self.pad()\n",
    "        encrypted_bytes = cipher.encrypt(padded_txt.encode('utf-8'))\n",
    "        # Base64 encrypt\n",
    "        encrypted_str = base64.urlsafe_b64encode(encrypted_bytes).decode('utf-8')\n",
    "        return encrypted_str"
   ]
  },
  {
   "cell_type": "code",
   "execution_count": 2,
   "id": "b003614c",
   "metadata": {},
   "outputs": [],
   "source": [
    "import xml.etree.ElementTree as ET\n",
    "import pandas as pd\n",
    "\n",
    "# XML 형태의 결과를 df로 변경\n",
    "def xml_to_df(xml):\n",
    "    root = ET.fromstring(xml)\n",
    "\n",
    "    # recordList 찾기\n",
    "    record_list_element = root.find('recordList')\n",
    "\n",
    "    # 데이터를 담을 리스트\n",
    "    records = []\n",
    "\n",
    "    if record_list_element is not None:\n",
    "        # 각 record에 대해 반복\n",
    "        for record_element in record_list_element.findall('record'):\n",
    "            record_data = {}\n",
    "            # 각 item에 대해 반복\n",
    "            for item_element in record_element.findall('item'):\n",
    "                meta_code = item_element.get('metaCode')\n",
    "                # CDATA 섹션의 텍스트 추출\n",
    "                value = item_element.text.strip() if item_element.text else ''\n",
    "                record_data[meta_code] = value\n",
    "            records.append(record_data)\n",
    "\n",
    "    df = pd.DataFrame(records)\n",
    "    return df"
   ]
  },
  {
   "cell_type": "code",
   "execution_count": 3,
   "id": "dd33c64f",
   "metadata": {},
   "outputs": [],
   "source": [
    "import json\n",
    "\n",
    "# ScienceON에서 사용하는 형태로 쿼리 수정하는 함수\n",
    "def transform_query(input_query):\n",
    "\n",
    "    query = {\n",
    "        \"BI\": input_query,  # 전체\n",
    "        # \"TI\": None,  # 논문명\n",
    "        # \"AU\": None,  # 저자\n",
    "        # \"AB\": None,  # 초록\n",
    "        # \"KW\": None,  # 키워드\n",
    "        # \"PB\": None,  # 출판사(발행기관)\n",
    "        # \"SN\": None,  # ISSN\n",
    "        # \"BN\": None,  # ISBN\n",
    "        # \"PY\": None,  # 발행년도\n",
    "        # \"CN\": None,  # 문헌번호\n",
    "        # \"DI\": None   # DOI\n",
    "    }\n",
    "\n",
    "    json_query = json.dumps(query, separators=(',', ':')) \n",
    "\n",
    "    return json_query"
   ]
  },
  {
   "cell_type": "code",
   "execution_count": 4,
   "id": "095a365b",
   "metadata": {},
   "outputs": [],
   "source": [
    "import json, requests\n",
    "from datetime import datetime\n",
    "\n",
    "# 액세스 토큰 불러오기\n",
    "def call_access_token(MAC_ADDRESS, API_KEY, CLIENT_ID):\n",
    "    # 맥주소\n",
    "    mac = (MAC_ADDRESS or \"\").strip().strip('\"').strip(\"'\").upper().replace(\":\", \"-\")\n",
    "    if not mac:\n",
    "        raise SystemExit(\"MAC_ADDRESS가 비어있음\")\n",
    "\n",
    "    # datetime 생성\n",
    "    dt = datetime.now().strftime('%Y%m%d%H%M%S')\n",
    "\n",
    "    # JSON 페이로드 생성\n",
    "    payload = {\n",
    "        \"mac_address\": mac,\n",
    "        \"datetime\": dt\n",
    "    }\n",
    "    plain_json = json.dumps(payload, separators=(',', ':'))\n",
    "\n",
    "    # AES 암호화 → Base64\n",
    "    aes = AESTestClass(plain_txt=plain_json, key=API_KEY)\n",
    "    b64_cipher = aes.encrypt()\n",
    "\n",
    "    # 인코딩 + 토큰 요청\n",
    "    endpoint = \"https://apigateway.kisti.re.kr/tokenrequest.do\"\n",
    "    params = {\n",
    "        \"accounts\": b64_cipher,\n",
    "        \"client_id\": CLIENT_ID\n",
    "    }\n",
    "\n",
    "    response = requests.get(endpoint, params=params, timeout=10)\n",
    "    response.raise_for_status()\n",
    "\n",
    "    data = response.json()\n",
    "    token = data['access_token'] \n",
    "    return token"
   ]
  },
  {
   "cell_type": "markdown",
   "id": "9c50d3bb",
   "metadata": {},
   "source": [
    "## 예시 데이터"
   ]
  },
  {
   "cell_type": "code",
   "execution_count": 5,
   "id": "802fdd90",
   "metadata": {},
   "outputs": [],
   "source": [
    "# 예시 데이터\n",
    "input_id = 'JAKO200411922932805'"
   ]
  },
  {
   "cell_type": "markdown",
   "id": "509df0e6",
   "metadata": {},
   "source": [
    "## 작동 방식"
   ]
  },
  {
   "cell_type": "code",
   "execution_count": 6,
   "id": "f925a77e",
   "metadata": {},
   "outputs": [
    {
     "name": "stdout",
     "output_type": "stream",
     "text": [
      "\n",
      "[title]\n",
      " 한국인의 3차원 무릎관절 구축 및 형상 측정\n",
      "\n",
      "[description]\n",
      " It is necessary to have a model that describes the feature of the knee Joint with a sufficient accuracy. Koreans, however, do not have their own knee joint model to be used in the total knee replacement arthroplasty. They have to use European or American models which do not match Koreans. Three-dimensional visualization techniques are found to be useful in a wide range of medical applications. Three-dimensional imaging studies such as CT(computed tomography) and MRI(magnetic resonance image) provide the primary source of patient-specific data. Three-dimensional knee joint models were constructed by image processing of the CT data of 10 subjects. Using the constructed model, the dimensions of Korean knee joint were measured. And this study proposed a three-dimensional model and data, which can be helpful to develop Korean knee implants and to analyze knee joint movements.\n",
      "\n",
      "[keyword]\n",
      " 단층촬영사진 . 한국인 무릎 관절 모델 . 인공 관절 치환술\n"
     ]
    }
   ],
   "source": [
    "import os, requests, xmltodict\n",
    "from dotenv import load_dotenv\n",
    "\n",
    "load_dotenv(override=True)\n",
    "\n",
    "CLIENT_ID = os.getenv(\"SCIENCEON_CLIENT_ID\")\n",
    "ARTI_KEY = os.getenv(\"SCIENCEON_API_KEY\")\n",
    "MAC_ADDRESS = os.getenv(\"MAC_ADDRESS\")\n",
    "\n",
    "# access token 생성\n",
    "access_token = call_access_token(MAC_ADDRESS, ARTI_KEY, CLIENT_ID)\n",
    "\n",
    "url = \"https://apigateway.kisti.re.kr/openapicall.do\"\n",
    "params = {\n",
    "    \"client_id\": CLIENT_ID,\n",
    "    \"token\": access_token,\n",
    "    \"version\": 1.0,\n",
    "    \"action\": \"browse\",\n",
    "    \"target\": \"ARTI\",\n",
    "    \"cn\": input_id,\n",
    "    \"include\": \"\",\n",
    "    \"exclude\": None,\n",
    "}\n",
    "\n",
    "res = requests.get(url, params=params, timeout=20)\n",
    "xml = res.text\n",
    "dict_data = xmltodict.parse(xml)\n",
    "\n",
    "# 데이터를 json으로 저장\n",
    "with open(\"../data/input_data.json\", \"w\", encoding=\"utf-8\") as f:\n",
    "    json.dump(dict_data, f, ensure_ascii=False, indent=4)\n",
    "\n",
    "df = xml_to_df(xml)\n",
    "\n",
    "title, description, keyword = df['Title'].iloc[0], df['Abstract'].iloc[0], df['Keyword'].iloc[0]\n",
    "\n",
    "print('\\n[title]\\n', title)\n",
    "print('\\n[description]\\n', description)\n",
    "print('\\n[keyword]\\n', keyword)    \n"
   ]
  }
 ],
 "metadata": {
  "kernelspec": {
   "display_name": "venv (3.13.2)",
   "language": "python",
   "name": "python3"
  },
  "language_info": {
   "codemirror_mode": {
    "name": "ipython",
    "version": 3
   },
   "file_extension": ".py",
   "mimetype": "text/x-python",
   "name": "python",
   "nbconvert_exporter": "python",
   "pygments_lexer": "ipython3",
   "version": "3.13.2"
  }
 },
 "nbformat": 4,
 "nbformat_minor": 5
}
