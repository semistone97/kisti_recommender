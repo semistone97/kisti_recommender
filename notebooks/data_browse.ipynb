{
 "cells": [
  {
   "cell_type": "markdown",
   "id": "9052720e",
   "metadata": {},
   "source": [
    "# 데이터셋 - 제목, 설명, 키워드 가져오기"
   ]
  },
  {
   "cell_type": "markdown",
   "id": "e9176c76",
   "metadata": {},
   "source": [
    "## 작동 방식"
   ]
  },
  {
   "cell_type": "code",
   "execution_count": 1,
   "id": "a1750aae",
   "metadata": {},
   "outputs": [],
   "source": [
    "# 예시 데이터\n",
    "input_id = '37c0f3d51a130211fe55fe6019cc7914'"
   ]
  },
  {
   "cell_type": "code",
   "execution_count": 2,
   "id": "a69636d6",
   "metadata": {},
   "outputs": [
    {
     "name": "stdout",
     "output_type": "stream",
     "text": [
      "\n",
      "[title]\n",
      " Gravity Core from Antarctic ROSS Sea (RS15-GC76)\n",
      "\n",
      "[description]\n",
      " 2014/2015 Gravity core, Ross Sea (O.Granite Harbor), Antarctic Climate change observation. Location : 76°54.9315'S, 163°21.7774'E Water Depth : 808m Core Length : 3.17m\n",
      "\n",
      "[keyword]\n",
      " EARTH SCIENCE;OCEANS;MARINE SEDIMENTS;SEDIMENTATION\n"
     ]
    }
   ],
   "source": [
    "import os, requests, json\n",
    "from dotenv import load_dotenv\n",
    "\n",
    "load_dotenv(override=True)\n",
    "\n",
    "API_KEY = os.getenv(\"DATAON_META_API_KEY\")\n",
    "assert API_KEY and API_KEY.strip(), \"환경변수(DATAON_META_API_KEY)가 비어있어요!\"\n",
    "\n",
    "url = \"https://dataon.kisti.re.kr/rest/api/search/dataset/\" + input_id\n",
    "params = {\"key\": API_KEY}\n",
    "\n",
    "res = requests.get(url, params=params, timeout=20)\n",
    "data = res.json()\n",
    "\n",
    "# json 저장\n",
    "with open(\"../data/input_data.json\", \"w\", encoding=\"utf-8\") as f:\n",
    "    json.dump(data['records'], f, ensure_ascii=False, indent=4)\n",
    "\n",
    "title, description, keyword = data['records']['dataset_title_etc_main'], data['records']['dataset_expl_etc_main'], data['records']['dataset_kywd_etc_main']\n",
    "\n",
    "print('\\n[title]\\n', title)\n",
    "print('\\n[description]\\n', description)\n",
    "print('\\n[keyword]\\n', keyword)"
   ]
  }
 ],
 "metadata": {
  "kernelspec": {
   "display_name": "venv (3.13.2)",
   "language": "python",
   "name": "python3"
  },
  "language_info": {
   "codemirror_mode": {
    "name": "ipython",
    "version": 3
   },
   "file_extension": ".py",
   "mimetype": "text/x-python",
   "name": "python",
   "nbconvert_exporter": "python",
   "pygments_lexer": "ipython3",
   "version": "3.13.2"
  }
 },
 "nbformat": 4,
 "nbformat_minor": 5
}
