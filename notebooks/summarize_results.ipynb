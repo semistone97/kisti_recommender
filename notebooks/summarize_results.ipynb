{
 "cells": [
  {
   "cell_type": "markdown",
   "id": "1e064bf2",
   "metadata": {},
   "source": [
    "# 결과 정리"
   ]
  },
  {
   "cell_type": "markdown",
   "id": "ee7eac0d",
   "metadata": {},
   "source": [
    "## 예시 데이터"
   ]
  },
  {
   "cell_type": "code",
   "execution_count": 2,
   "id": "71116d0c",
   "metadata": {},
   "outputs": [],
   "source": [
    "# data\n",
    "import pandas as pd\n",
    "\n",
    "df_article = pd.read_csv('../data/search_results_article.csv', encoding='UTF-8', low_memory=False)\n",
    "df_data = pd.read_csv('../data/search_results_dataset.csv', encoding='UTF-8', low_memory=False)\n",
    "\n",
    "cleaned_df_data = (\n",
    "    df_data[\n",
    "        ['svc_id', 'dataset_title_etc_main', 'dataset_expl_etc_main','dataset_pub_dt_pc', 'dataset_kywd_etc_main', 'dataset_creator_etc_main', 'dataset_lndgpg', 'query']\n",
    "    ]\n",
    "    .rename(\n",
    "        columns={\n",
    "            'svc_id': 'ID',\n",
    "            'dataset_title_etc_main': 'title',\n",
    "            'dataset_expl_etc_main': 'description',\n",
    "            'dataset_pub_dt_pc': 'pubyear',\n",
    "            'dataset_kywd_etc_main': 'keyword',\n",
    "            'dataset_creator_etc_main': 'author',\n",
    "            'dataset_lndgpg': 'URL',\n",
    "        }\n",
    "    )\n",
    ")\n",
    "cleaned_df_data['category'] = 'dataset'\n",
    "\n",
    "cleaned_df_arti = (\n",
    "    df_article[\n",
    "        ['CN', 'Title', 'Abstract', 'Pubyear', 'Keyword', 'Author', 'ContentURL', 'query']\n",
    "    ]\n",
    "    .rename(\n",
    "        columns={\n",
    "            'CN': 'ID',\n",
    "            'Title': 'title',\n",
    "            'Abstract': 'description',\n",
    "            'Pubyear': 'pubyear',\n",
    "            'Keyword': 'keyword',\n",
    "            'Author': 'author',\n",
    "            'ContentURL': 'URL'\n",
    "        }\n",
    "    )\n",
    ")\n",
    "cleaned_df_arti['category'] = 'article'\n",
    "\n",
    "df = pd.concat([cleaned_df_arti, cleaned_df_data], ignore_index=True)\n"
   ]
  },
  {
   "cell_type": "code",
   "execution_count": 3,
   "id": "5ed7450d",
   "metadata": {},
   "outputs": [],
   "source": [
    "# relevance_data\n",
    "relevance_df = pd.read_csv('../data/relevance_results.csv', encoding='UTF-8', low_memory=False)"
   ]
  },
  {
   "cell_type": "markdown",
   "id": "7871d448",
   "metadata": {},
   "source": [
    "## 작동 방식"
   ]
  },
  {
   "cell_type": "code",
   "execution_count": 4,
   "id": "89719395",
   "metadata": {},
   "outputs": [
    {
     "data": {
      "application/vnd.microsoft.datawrangler.viewer.v0+json": {
       "columns": [
        {
         "name": "index",
         "rawType": "int64",
         "type": "integer"
        },
        {
         "name": "구분",
         "rawType": "object",
         "type": "string"
        },
        {
         "name": "제목",
         "rawType": "object",
         "type": "string"
        },
        {
         "name": "설명",
         "rawType": "object",
         "type": "string"
        },
        {
         "name": "점수",
         "rawType": "float64",
         "type": "float"
        },
        {
         "name": "추천 사유",
         "rawType": "object",
         "type": "string"
        },
        {
         "name": "URL",
         "rawType": "object",
         "type": "string"
        }
       ],
       "ref": "31a7148e-9e40-4929-b82a-caabc137bf91",
       "rows": [
        [
         "0",
         "dataset",
         "Gravity Core from Antarctic ROSS Sea (RS15-GC81)",
         "2014/2015 Gravity core, Ross Sea (O.Granite Harbor), Antarctic Climate change observation. Location : 76°49.2834'S, 163°55.6150'E Water Depth : 711m Core Length : 3.61m",
         "92.56636",
         "이 데이터는 O.Granite Harbor에서 수집된 중력 코어 샘플로, 연구 주제와 동일한 지역에서의 기후 변화 관찰을 포함하고 있습니다.",
         "https://dx.doi.org/doi:10.22663/KOPRI-KPDC-00002834.1"
        ],
        [
         "1",
         "dataset",
         "Gravity Core from Antarctic ROSS Sea (RS15-GC80)",
         "2014/2015 Gravity core, Ross Sea (O.Granite Harbor), Antarctic Climate change observation. Location : 76°48.2001'S, 163°55.6482'E Water Depth : 721m Core Length : 4.44m",
         "92.31045",
         "이 데이터는 O.Granite Harbor 근처에서 수집된 중력 코어 샘플로, 연구 주제와 관련된 기후 변화 연구에 기여할 수 있습니다.",
         "https://dx.doi.org/doi:10.22663/KOPRI-KPDC-00002833.1"
        ],
        [
         "2",
         "dataset",
         "Gravity Core from Antarctic ROSS Sea (RS15-GC79)",
         "2014/2015 Gravity core, Ross Sea, Antarctic Climate change observation. Location : 76°00.3801'S, 163°27.3877'E Water Depth : 799m Core Length : 4.30m",
         "91.94792",
         "이 데이터는 Ross Sea에서의 중력 코어 샘플링을 다루고 있으며, 연구 주제와 유사한 기후 변화 관찰을 포함하고 있습니다.",
         "https://dx.doi.org/doi:10.22663/KOPRI-KPDC-00002832.1"
        ],
        [
         "3",
         "dataset",
         "Gravity Core from Antarctic ROSS Sea (RS15-GC83)",
         "2014/2015 Gravity core, Ross Sea (W.Beanfort Island), Antarctic Climate change observation. Location : 76°57.7681'S, 166°22.9994'E Water Depth : 888m Core Length : 3.95m",
         "91.60432",
         "이 데이터는 W.Beanfort Island에서 수집된 중력 코어 샘플로, 연구 주제와 관련된 기후 변화 연구에 중요한 정보를 제공합니다.",
         "https://dx.doi.org/doi:10.22663/KOPRI-KPDC-00002836.1"
        ],
        [
         "4",
         "dataset",
         "Gravity Core from Antarctic ROSS Sea (RS15-GC82)",
         "2014/2015 Gravity core, Ross Sea (W.Beanfort Island), Antarctic Climate change observation. Location : 76°56.6123'S, 166°17.1496'E Water Depth : 860m Core Length : 5.82m",
         "91.57433",
         "이 데이터는 Ross Sea에서의 중력 코어 샘플링을 다루고 있으며, 연구 주제와 유사한 지역에서 수집된 데이터입니다.",
         "https://dx.doi.org/doi:10.22663/KOPRI-KPDC-00002835.1"
        ]
       ],
       "shape": {
        "columns": 6,
        "rows": 5
       }
      },
      "text/html": [
       "<div>\n",
       "<style scoped>\n",
       "    .dataframe tbody tr th:only-of-type {\n",
       "        vertical-align: middle;\n",
       "    }\n",
       "\n",
       "    .dataframe tbody tr th {\n",
       "        vertical-align: top;\n",
       "    }\n",
       "\n",
       "    .dataframe thead th {\n",
       "        text-align: right;\n",
       "    }\n",
       "</style>\n",
       "<table border=\"1\" class=\"dataframe\">\n",
       "  <thead>\n",
       "    <tr style=\"text-align: right;\">\n",
       "      <th></th>\n",
       "      <th>구분</th>\n",
       "      <th>제목</th>\n",
       "      <th>설명</th>\n",
       "      <th>점수</th>\n",
       "      <th>추천 사유</th>\n",
       "      <th>URL</th>\n",
       "    </tr>\n",
       "  </thead>\n",
       "  <tbody>\n",
       "    <tr>\n",
       "      <th>0</th>\n",
       "      <td>dataset</td>\n",
       "      <td>Gravity Core from Antarctic ROSS Sea (RS15-GC81)</td>\n",
       "      <td>2014/2015 Gravity core, Ross Sea (O.Granite Ha...</td>\n",
       "      <td>92.56636</td>\n",
       "      <td>이 데이터는 O.Granite Harbor에서 수집된 중력 코어 샘플로, 연구 주제...</td>\n",
       "      <td>https://dx.doi.org/doi:10.22663/KOPRI-KPDC-000...</td>\n",
       "    </tr>\n",
       "    <tr>\n",
       "      <th>1</th>\n",
       "      <td>dataset</td>\n",
       "      <td>Gravity Core from Antarctic ROSS Sea (RS15-GC80)</td>\n",
       "      <td>2014/2015 Gravity core, Ross Sea (O.Granite Ha...</td>\n",
       "      <td>92.31045</td>\n",
       "      <td>이 데이터는 O.Granite Harbor 근처에서 수집된 중력 코어 샘플로, 연구...</td>\n",
       "      <td>https://dx.doi.org/doi:10.22663/KOPRI-KPDC-000...</td>\n",
       "    </tr>\n",
       "    <tr>\n",
       "      <th>2</th>\n",
       "      <td>dataset</td>\n",
       "      <td>Gravity Core from Antarctic ROSS Sea (RS15-GC79)</td>\n",
       "      <td>2014/2015 Gravity core, Ross Sea, Antarctic Cl...</td>\n",
       "      <td>91.94792</td>\n",
       "      <td>이 데이터는 Ross Sea에서의 중력 코어 샘플링을 다루고 있으며, 연구 주제와 ...</td>\n",
       "      <td>https://dx.doi.org/doi:10.22663/KOPRI-KPDC-000...</td>\n",
       "    </tr>\n",
       "    <tr>\n",
       "      <th>3</th>\n",
       "      <td>dataset</td>\n",
       "      <td>Gravity Core from Antarctic ROSS Sea (RS15-GC83)</td>\n",
       "      <td>2014/2015 Gravity core, Ross Sea (W.Beanfort I...</td>\n",
       "      <td>91.60432</td>\n",
       "      <td>이 데이터는 W.Beanfort Island에서 수집된 중력 코어 샘플로, 연구 주...</td>\n",
       "      <td>https://dx.doi.org/doi:10.22663/KOPRI-KPDC-000...</td>\n",
       "    </tr>\n",
       "    <tr>\n",
       "      <th>4</th>\n",
       "      <td>dataset</td>\n",
       "      <td>Gravity Core from Antarctic ROSS Sea (RS15-GC82)</td>\n",
       "      <td>2014/2015 Gravity core, Ross Sea (W.Beanfort I...</td>\n",
       "      <td>91.57433</td>\n",
       "      <td>이 데이터는 Ross Sea에서의 중력 코어 샘플링을 다루고 있으며, 연구 주제와 ...</td>\n",
       "      <td>https://dx.doi.org/doi:10.22663/KOPRI-KPDC-000...</td>\n",
       "    </tr>\n",
       "  </tbody>\n",
       "</table>\n",
       "</div>"
      ],
      "text/plain": [
       "        구분                                                제목  \\\n",
       "0  dataset  Gravity Core from Antarctic ROSS Sea (RS15-GC81)   \n",
       "1  dataset  Gravity Core from Antarctic ROSS Sea (RS15-GC80)   \n",
       "2  dataset  Gravity Core from Antarctic ROSS Sea (RS15-GC79)   \n",
       "3  dataset  Gravity Core from Antarctic ROSS Sea (RS15-GC83)   \n",
       "4  dataset  Gravity Core from Antarctic ROSS Sea (RS15-GC82)   \n",
       "\n",
       "                                                  설명        점수  \\\n",
       "0  2014/2015 Gravity core, Ross Sea (O.Granite Ha...  92.56636   \n",
       "1  2014/2015 Gravity core, Ross Sea (O.Granite Ha...  92.31045   \n",
       "2  2014/2015 Gravity core, Ross Sea, Antarctic Cl...  91.94792   \n",
       "3  2014/2015 Gravity core, Ross Sea (W.Beanfort I...  91.60432   \n",
       "4  2014/2015 Gravity core, Ross Sea (W.Beanfort I...  91.57433   \n",
       "\n",
       "                                               추천 사유  \\\n",
       "0  이 데이터는 O.Granite Harbor에서 수집된 중력 코어 샘플로, 연구 주제...   \n",
       "1  이 데이터는 O.Granite Harbor 근처에서 수집된 중력 코어 샘플로, 연구...   \n",
       "2  이 데이터는 Ross Sea에서의 중력 코어 샘플링을 다루고 있으며, 연구 주제와 ...   \n",
       "3  이 데이터는 W.Beanfort Island에서 수집된 중력 코어 샘플로, 연구 주...   \n",
       "4  이 데이터는 Ross Sea에서의 중력 코어 샘플링을 다루고 있으며, 연구 주제와 ...   \n",
       "\n",
       "                                                 URL  \n",
       "0  https://dx.doi.org/doi:10.22663/KOPRI-KPDC-000...  \n",
       "1  https://dx.doi.org/doi:10.22663/KOPRI-KPDC-000...  \n",
       "2  https://dx.doi.org/doi:10.22663/KOPRI-KPDC-000...  \n",
       "3  https://dx.doi.org/doi:10.22663/KOPRI-KPDC-000...  \n",
       "4  https://dx.doi.org/doi:10.22663/KOPRI-KPDC-000...  "
      ]
     },
     "metadata": {},
     "output_type": "display_data"
    }
   ],
   "source": [
    "merged_df = pd.merge(\n",
    "    relevance_df,\n",
    "    df[['ID','category', 'title', 'description', 'URL']],\n",
    "    on='ID',\n",
    "    how='left'\n",
    ")\n",
    "\n",
    "result_df = merged_df[['category', 'title', 'description', 'relevance', 'reason', 'URL']]\n",
    "result_df = result_df.rename(columns={\n",
    "    'category': '구분',\n",
    "    'title': '제목',\n",
    "    'description': '설명',\n",
    "    'relevance': '점수',\n",
    "    'reason': '추천 사유',\n",
    "})\n",
    "\n",
    "display(result_df)"
   ]
  }
 ],
 "metadata": {
  "kernelspec": {
   "display_name": "venv (3.13.2)",
   "language": "python",
   "name": "python3"
  },
  "language_info": {
   "codemirror_mode": {
    "name": "ipython",
    "version": 3
   },
   "file_extension": ".py",
   "mimetype": "text/x-python",
   "name": "python",
   "nbconvert_exporter": "python",
   "pygments_lexer": "ipython3",
   "version": "3.13.2"
  }
 },
 "nbformat": 4,
 "nbformat_minor": 5
}
