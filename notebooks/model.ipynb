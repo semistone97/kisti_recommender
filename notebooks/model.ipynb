{
 "cells": [
  {
   "cell_type": "code",
   "execution_count": 7,
   "id": "85225c60",
   "metadata": {},
   "outputs": [],
   "source": [
    "import pandas as pd\n",
    "\n",
    "df = pd.read_csv('./generated_input_data.csv', encoding='UTF-8', low_memory=False)\n",
    "\n",
    "# display(df)\n",
    "\n",
    "subject = '기후 데이터 기반의 도시 열섬 현상 분석'\n",
    "description = '위성 원격탐사 데이터와 국내 기상 관측소 데이터를 결합하여 도시 열섬 현상의 시공간적 패턴을 분석하고, 인공지능 기반 예측 모델을 통해 기후 변화 대응 전략을 모색하는 연구'"
   ]
  },
  {
   "cell_type": "code",
   "execution_count": 8,
   "id": "79c8e225",
   "metadata": {},
   "outputs": [],
   "source": [
    "from langgraph.graph import MessagesState\n",
    "\n",
    "class State(MessagesState):\n",
    "    subject: str = ''\n",
    "    description: str = ''\n",
    "    data: pd.DataFrame = pd.DataFrame()\n",
    "    "
   ]
  },
  {
   "cell_type": "code",
   "execution_count": 9,
   "id": "a7198122",
   "metadata": {},
   "outputs": [],
   "source": [
    "# Schema\n",
    "from typing_extensions import Annotated\n",
    "from pydantic import Field, BaseModel\n",
    "\n",
    "class IDRelevance(BaseModel):\n",
    "    relevant_id: Annotated[\n",
    "        list[int],\n",
    "        Field(\n",
    "            ..., \n",
    "            max_items=5, \n",
    "            min_items=3,\n",
    "            description=\"가장 관련성이 높은 데이터 ID 리스트, 길이 최소 3개/최대 5개\", \n",
    "        )\n",
    "    ]\n"
   ]
  },
  {
   "cell_type": "code",
   "execution_count": 10,
   "id": "08bb964b",
   "metadata": {},
   "outputs": [
    {
     "name": "stdout",
     "output_type": "stream",
     "text": [
      "[25, 14, 28]\n"
     ]
    }
   ],
   "source": [
    "from langchain_openai import ChatOpenAI\n",
    "from langchain_core.prompts import PromptTemplate\n",
    "\n",
    "# 프롬프트\n",
    "relevance_template = '''\n",
    "당신은 데이터 과학자입니다. 아래는 연구 데이터 목록입니다.\n",
    "\n",
    "각 데이터 항목은 다음 컬럼을 가지고 있습니다:\n",
    "- ID: 각 데이터의 고유키\n",
    "- 구분: 논문 또는 데이터셋\n",
    "- 제목\n",
    "- 설명\n",
    "- 작성일\n",
    "- 해외/국내\n",
    "- 작성언어\n",
    "- 키워드\n",
    "\n",
    "[목표]\n",
    "주어진 연구 주제와 가장 관련성 높은 3개의 데이터 항목을 선택하세요. \n",
    "- 관련성 기준: 제목, 설명, 키워드에 기반\n",
    "\n",
    "[Input]\n",
    "연구 주제: {subject}\n",
    "연구 설명: {description}\n",
    "\n",
    "[Data]\n",
    "데이터 목록:\n",
    "{data}\n",
    "\n",
    "[Output]\n",
    "가장 관련성 높은 3개 항목의 ID를 JSON으로 출력해주세요.\n",
    "'''\n",
    "\n",
    "relevance_prompt = PromptTemplate.from_template(relevance_template)\n",
    "prompt = relevance_prompt.invoke(\n",
    "    {\n",
    "        'subject': subject, \n",
    "        'description': description,\n",
    "        'data': df.to_dict(orient=\"records\"),\n",
    "    }\n",
    ")\n",
    "\n",
    "# sLLM\n",
    "sllm = ChatOpenAI(model='gpt-4o-mini', temperature=0)\n",
    "\n",
    "structured_sllm = sllm.with_structured_output(IDRelevance)\n",
    "res = structured_sllm.invoke(prompt)\n",
    "\n",
    "# Output\n",
    "print(res.relevant_id)\n"
   ]
  }
 ],
 "metadata": {
  "kernelspec": {
   "display_name": "venv",
   "language": "python",
   "name": "python3"
  },
  "language_info": {
   "codemirror_mode": {
    "name": "ipython",
    "version": 3
   },
   "file_extension": ".py",
   "mimetype": "text/x-python",
   "name": "python",
   "nbconvert_exporter": "python",
   "pygments_lexer": "ipython3",
   "version": "3.13.2"
  }
 },
 "nbformat": 4,
 "nbformat_minor": 5
}
