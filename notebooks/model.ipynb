{
 "cells": [
  {
   "cell_type": "code",
   "execution_count": null,
   "id": "79c8e225",
   "metadata": {},
   "outputs": [],
   "source": [
    "from langgraph.graph import MessagesState\n",
    "import pandas as pd\n",
    "\n",
    "class State(MessagesState):\n",
    "    subject: str = ''\n",
    "    description: str = ''\n",
    "    data: pd.DataFrame = pd.DataFrame()\n",
    "    \n",
    "    relevant_data: pd.DataFrame = pd.DataFrame()\n",
    "    "
   ]
  },
  {
   "cell_type": "code",
   "execution_count": 11,
   "id": "a7198122",
   "metadata": {},
   "outputs": [],
   "source": [
    "# Schema\n",
    "from typing_extensions import Annotated\n",
    "from pydantic import Field, BaseModel\n",
    "\n",
    "class IDRelevance(BaseModel):\n",
    "    relevant_id: Annotated[\n",
    "        list[int],\n",
    "        Field(\n",
    "            ..., \n",
    "            max_items=5, \n",
    "            min_items=3,\n",
    "            description=\"가장 관련성이 높은 데이터 ID 리스트, 길이 최소 3개/최대 5개\", \n",
    "        )\n",
    "    ]"
   ]
  },
  {
   "cell_type": "code",
   "execution_count": 12,
   "id": "08bb964b",
   "metadata": {},
   "outputs": [],
   "source": [
    "# 프롬프트\n",
    "from langchain_core.prompts import PromptTemplate\n",
    "\n",
    "relevance_template = '''\n",
    "당신은 데이터 과학자입니다. 아래는 연구 데이터 목록입니다.\n",
    "\n",
    "각 데이터 항목은 다음 컬럼을 가지고 있습니다:\n",
    "- ID: 각 데이터의 고유키\n",
    "- 구분: 논문 또는 데이터셋\n",
    "- 제목\n",
    "- 설명\n",
    "- 작성일\n",
    "- 해외/국내\n",
    "- 작성언어\n",
    "- 키워드\n",
    "\n",
    "[목표]\n",
    "주어진 연구 주제와 가장 관련성 높은 3~5개의 데이터 항목을 선택하세요. \n",
    "- 관련성 기준: 제목, 설명, 키워드에 기반\n",
    "\n",
    "[Input]\n",
    "연구 주제: {subject}\n",
    "연구 설명: {description}\n",
    "\n",
    "[Data]\n",
    "데이터 목록:\n",
    "{data}\n",
    "\n",
    "[Output]\n",
    "가장 관련성 높은 3~5개 항목의 ID를 JSON으로 출력해주세요.\n",
    "'''\n",
    "\n",
    "relevance_prompt = PromptTemplate.from_template(relevance_template)\n"
   ]
  },
  {
   "cell_type": "code",
   "execution_count": 13,
   "id": "61a7ecdd",
   "metadata": {},
   "outputs": [],
   "source": [
    "from langchain_openai import ChatOpenAI\n",
    "\n",
    "def select_relevance(state: State):\n",
    "\n",
    "    df = state['data']\n",
    "\n",
    "    prompt = relevance_prompt.invoke(\n",
    "        {\n",
    "            'subject': state['subject'], \n",
    "            'description': state['description'],\n",
    "            'data': df.to_dict(orient=\"records\"),\n",
    "        }\n",
    "    )\n",
    "\n",
    "    # sLLM\n",
    "    sllm = ChatOpenAI(model='gpt-4o-mini', temperature=0)\n",
    "\n",
    "    structured_sllm = sllm.with_structured_output(IDRelevance)\n",
    "    res = structured_sllm.invoke(prompt)\n",
    "\n",
    "    # Output\n",
    "    id_list = res.relevant_id\n",
    "    selected_data = df[df['ID'].isin(id_list)]\n",
    "\n",
    "    return {'relevant_data':selected_data}\n"
   ]
  },
  {
   "cell_type": "code",
   "execution_count": 14,
   "id": "0d8926b3",
   "metadata": {},
   "outputs": [],
   "source": [
    "from langgraph.graph import START, END, StateGraph\n",
    "\n",
    "def build_graph():\n",
    "    builder = StateGraph(State)\n",
    "    \n",
    "    builder.add_node('select_relevance', select_relevance) \n",
    "    \n",
    "    builder.add_edge(START, 'select_relevance')\n",
    "    builder.add_edge('select_relevance', END)\n",
    "    \n",
    "    return builder.compile()\n",
    "\n",
    "graph = build_graph()"
   ]
  },
  {
   "cell_type": "code",
   "execution_count": null,
   "id": "89ecf795",
   "metadata": {},
   "outputs": [
    {
     "data": {
      "application/vnd.microsoft.datawrangler.viewer.v0+json": {
       "columns": [
        {
         "name": "index",
         "rawType": "int64",
         "type": "integer"
        },
        {
         "name": "ID",
         "rawType": "int64",
         "type": "integer"
        },
        {
         "name": "구분",
         "rawType": "object",
         "type": "string"
        },
        {
         "name": "제목",
         "rawType": "object",
         "type": "string"
        },
        {
         "name": "설명",
         "rawType": "object",
         "type": "string"
        },
        {
         "name": "작성일",
         "rawType": "object",
         "type": "string"
        },
        {
         "name": "해외/국내",
         "rawType": "object",
         "type": "string"
        },
        {
         "name": "작성언어",
         "rawType": "object",
         "type": "string"
        },
        {
         "name": "키워드",
         "rawType": "object",
         "type": "string"
        }
       ],
       "ref": "7cbbfb23-8de1-46b6-9084-999962b5794d",
       "rows": [
        [
         "10",
         "11",
         "데이터셋",
         "원격탐사 공개 데이터셋 (국내 수집)",
         "국내 환경에서 수집된 원격탐사 관련 대규모 라벨링 데이터셋입니다. 메타데이터와 전처리 스크립트를 포함합니다.",
         "2019-10-10",
         "국내",
         "한국어",
         "원격탐사, 데이터셋, 라벨링, 전처리"
        ],
        [
         "13",
         "14",
         "논문",
         "기후과학을 위한 효율적 알고리즘 연구",
         "기후과학 분야에서 성능과 계산비용을 동시에 개선한 새로운 알고리즘을 제안하고 실험으로 검증한 논문입니다.",
         "2017-07-25",
         "국내",
         "한국어",
         "기후과학, 알고리즘, 성능평가, 실험"
        ],
        [
         "24",
         "25",
         "데이터셋",
         "Climate Science Public Dataset (multi-country)",
         "A large labeled dataset for Climate Science collected across multiple countries. Includes metadata and preprocessing code.",
         "2023-07-08",
         "해외",
         "English",
         "Climate Science, dataset, labeling, preprocessing"
        ],
        [
         "27",
         "28",
         "논문",
         "A scalable method for Climate Science",
         "This paper presents a scalable method that improves accuracy and reduces compute cost for Climate Science tasks. We provide benchmarks and ablation studies.",
         "2023-11-25",
         "해외",
         "English",
         "Climate Science, algorithm, benchmark, ablation"
        ],
        [
         "58",
         "59",
         "논문",
         "A scalable method for Climate Science",
         "This paper presents a scalable method that improves accuracy and reduces compute cost for Climate Science tasks. We provide benchmarks and ablation studies.",
         "2025-09-19",
         "해외",
         "English",
         "Climate Science, algorithm, benchmark, ablation"
        ]
       ],
       "shape": {
        "columns": 8,
        "rows": 5
       }
      },
      "text/html": [
       "<div>\n",
       "<style scoped>\n",
       "    .dataframe tbody tr th:only-of-type {\n",
       "        vertical-align: middle;\n",
       "    }\n",
       "\n",
       "    .dataframe tbody tr th {\n",
       "        vertical-align: top;\n",
       "    }\n",
       "\n",
       "    .dataframe thead th {\n",
       "        text-align: right;\n",
       "    }\n",
       "</style>\n",
       "<table border=\"1\" class=\"dataframe\">\n",
       "  <thead>\n",
       "    <tr style=\"text-align: right;\">\n",
       "      <th></th>\n",
       "      <th>ID</th>\n",
       "      <th>구분</th>\n",
       "      <th>제목</th>\n",
       "      <th>설명</th>\n",
       "      <th>작성일</th>\n",
       "      <th>해외/국내</th>\n",
       "      <th>작성언어</th>\n",
       "      <th>키워드</th>\n",
       "    </tr>\n",
       "  </thead>\n",
       "  <tbody>\n",
       "    <tr>\n",
       "      <th>10</th>\n",
       "      <td>11</td>\n",
       "      <td>데이터셋</td>\n",
       "      <td>원격탐사 공개 데이터셋 (국내 수집)</td>\n",
       "      <td>국내 환경에서 수집된 원격탐사 관련 대규모 라벨링 데이터셋입니다. 메타데이터와 전처...</td>\n",
       "      <td>2019-10-10</td>\n",
       "      <td>국내</td>\n",
       "      <td>한국어</td>\n",
       "      <td>원격탐사, 데이터셋, 라벨링, 전처리</td>\n",
       "    </tr>\n",
       "    <tr>\n",
       "      <th>13</th>\n",
       "      <td>14</td>\n",
       "      <td>논문</td>\n",
       "      <td>기후과학을 위한 효율적 알고리즘 연구</td>\n",
       "      <td>기후과학 분야에서 성능과 계산비용을 동시에 개선한 새로운 알고리즘을 제안하고 실험으...</td>\n",
       "      <td>2017-07-25</td>\n",
       "      <td>국내</td>\n",
       "      <td>한국어</td>\n",
       "      <td>기후과학, 알고리즘, 성능평가, 실험</td>\n",
       "    </tr>\n",
       "    <tr>\n",
       "      <th>24</th>\n",
       "      <td>25</td>\n",
       "      <td>데이터셋</td>\n",
       "      <td>Climate Science Public Dataset (multi-country)</td>\n",
       "      <td>A large labeled dataset for Climate Science co...</td>\n",
       "      <td>2023-07-08</td>\n",
       "      <td>해외</td>\n",
       "      <td>English</td>\n",
       "      <td>Climate Science, dataset, labeling, preprocessing</td>\n",
       "    </tr>\n",
       "    <tr>\n",
       "      <th>27</th>\n",
       "      <td>28</td>\n",
       "      <td>논문</td>\n",
       "      <td>A scalable method for Climate Science</td>\n",
       "      <td>This paper presents a scalable method that imp...</td>\n",
       "      <td>2023-11-25</td>\n",
       "      <td>해외</td>\n",
       "      <td>English</td>\n",
       "      <td>Climate Science, algorithm, benchmark, ablation</td>\n",
       "    </tr>\n",
       "    <tr>\n",
       "      <th>58</th>\n",
       "      <td>59</td>\n",
       "      <td>논문</td>\n",
       "      <td>A scalable method for Climate Science</td>\n",
       "      <td>This paper presents a scalable method that imp...</td>\n",
       "      <td>2025-09-19</td>\n",
       "      <td>해외</td>\n",
       "      <td>English</td>\n",
       "      <td>Climate Science, algorithm, benchmark, ablation</td>\n",
       "    </tr>\n",
       "  </tbody>\n",
       "</table>\n",
       "</div>"
      ],
      "text/plain": [
       "    ID    구분                                              제목  \\\n",
       "10  11  데이터셋                            원격탐사 공개 데이터셋 (국내 수집)   \n",
       "13  14    논문                            기후과학을 위한 효율적 알고리즘 연구   \n",
       "24  25  데이터셋  Climate Science Public Dataset (multi-country)   \n",
       "27  28    논문           A scalable method for Climate Science   \n",
       "58  59    논문           A scalable method for Climate Science   \n",
       "\n",
       "                                                   설명         작성일 해외/국내  \\\n",
       "10  국내 환경에서 수집된 원격탐사 관련 대규모 라벨링 데이터셋입니다. 메타데이터와 전처...  2019-10-10    국내   \n",
       "13  기후과학 분야에서 성능과 계산비용을 동시에 개선한 새로운 알고리즘을 제안하고 실험으...  2017-07-25    국내   \n",
       "24  A large labeled dataset for Climate Science co...  2023-07-08    해외   \n",
       "27  This paper presents a scalable method that imp...  2023-11-25    해외   \n",
       "58  This paper presents a scalable method that imp...  2025-09-19    해외   \n",
       "\n",
       "       작성언어                                                키워드  \n",
       "10      한국어                               원격탐사, 데이터셋, 라벨링, 전처리  \n",
       "13      한국어                               기후과학, 알고리즘, 성능평가, 실험  \n",
       "24  English  Climate Science, dataset, labeling, preprocessing  \n",
       "27  English    Climate Science, algorithm, benchmark, ablation  \n",
       "58  English    Climate Science, algorithm, benchmark, ablation  "
      ]
     },
     "metadata": {},
     "output_type": "display_data"
    }
   ],
   "source": [
    "import pandas as pd\n",
    "\n",
    "subject = '기후 데이터 기반의 도시 열섬 현상 분석'\n",
    "description = '위성 원격탐사 데이터와 국내 기상 관측소 데이터를 결합하여 도시 열섬 현상의 시공간적 패턴을 분석하고, 인공지능 기반 예측 모델을 통해 기후 변화 대응 전략을 모색하는 연구'\n",
    "processed_df = pd.read_csv('./generated_input_data.csv', encoding='UTF-8', low_memory=False)\n",
    "\n",
    "res = graph.invoke({\n",
    "    'subject': subject,\n",
    "    'description': description,\n",
    "    'data': processed_df, \n",
    "})\n",
    "\n",
    "display(res['relevant_data'])"
   ]
  }
 ],
 "metadata": {
  "kernelspec": {
   "display_name": "venv",
   "language": "python",
   "name": "python3"
  },
  "language_info": {
   "codemirror_mode": {
    "name": "ipython",
    "version": 3
   },
   "file_extension": ".py",
   "mimetype": "text/x-python",
   "name": "python",
   "nbconvert_exporter": "python",
   "pygments_lexer": "ipython3",
   "version": "3.13.2"
  }
 },
 "nbformat": 4,
 "nbformat_minor": 5
}
