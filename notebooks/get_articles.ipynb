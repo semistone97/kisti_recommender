{
 "cells": [
  {
   "cell_type": "markdown",
   "id": "57b7ee75",
   "metadata": {},
   "source": [
    "# 논문 토큰 호출용 클래스 정의"
   ]
  },
  {
   "cell_type": "code",
   "execution_count": null,
   "id": "0b580145",
   "metadata": {},
   "outputs": [],
   "source": [
    "import json, base64, requests\n",
    "from Crypto.Cipher import AES\n",
    "\n",
    "class AESTestClass:\n",
    "    def __init__(self, plain_txt, key):\n",
    "        # iv, block_size 값은 고정\n",
    "        self.iv = 'jvHJ1EFA0IXBrxxz'\n",
    "        self.block_size = 16\n",
    "        self.plain_txt = plain_txt\n",
    "        self.key = key\n",
    "\n",
    "    def pad(self):\n",
    "        # PKCS#7 패딩\n",
    "        number_of_bytes_to_pad = self.block_size - len(self.plain_txt) % self.block_size\n",
    "        ascii_str = chr(number_of_bytes_to_pad)\n",
    "        padding_str = number_of_bytes_to_pad * ascii_str\n",
    "        return self.plain_txt + padding_str\n",
    "\n",
    "    def encrypt(self):\n",
    "        cipher = AES.new(self.key.encode('utf-8'), AES.MODE_CBC, self.iv.encode('utf-8'))\n",
    "        padded_txt = self.pad()\n",
    "        encrypted_bytes = cipher.encrypt(padded_txt.encode('utf-8'))\n",
    "        # URL-safe Base64\n",
    "        encrypted_str = base64.urlsafe_b64encode(encrypted_bytes).decode('utf-8')\n",
    "        return encrypted_str"
   ]
  },
  {
   "cell_type": "markdown",
   "id": "c814a229",
   "metadata": {},
   "source": [
    "# 토큰 호출 함수"
   ]
  },
  {
   "cell_type": "code",
   "execution_count": 29,
   "id": "193aa8ef",
   "metadata": {},
   "outputs": [],
   "source": [
    "from datetime import datetime\n",
    "# 나중에 AESTestClass도 호출해야 함.\n",
    "\n",
    "def call_access_token(MAC_ADDRESS, API_KEY, CLIENT_ID):\n",
    "    # 맥주소\n",
    "    mac = (MAC_ADDRESS or \"\").strip().strip('\"').strip(\"'\").upper().replace(\":\", \"-\")\n",
    "    if not mac:\n",
    "        raise SystemExit(\"MAC_ADDRESS가 비어있음\")\n",
    "\n",
    "    # datetime 생성\n",
    "    dt = datetime.now().strftime('%Y%m%d%H%M%S')\n",
    "\n",
    "    # JSON 페이로드 생성\n",
    "    payload = {\n",
    "        \"mac_address\": mac,\n",
    "        \"datetime\": dt\n",
    "    }\n",
    "    plain_json = json.dumps(payload, separators=(',', ':'))\n",
    "\n",
    "    # AES 암호화 → Base64\n",
    "    aes = AESTestClass(plain_txt=plain_json, key=API_KEY)\n",
    "    b64_cipher = aes.encrypt()\n",
    "\n",
    "    # 인코딩 + 토큰 요청\n",
    "    endpoint = \"https://apigateway.kisti.re.kr/tokenrequest.do\"\n",
    "    params = {\n",
    "        \"accounts\": b64_cipher,\n",
    "        \"client_id\": CLIENT_ID\n",
    "    }\n",
    "\n",
    "    response = requests.get(endpoint, params=params, timeout=10)\n",
    "    response.raise_for_status()\n",
    "\n",
    "    data = response.json()\n",
    "    token = data['access_token'] \n",
    "    return token"
   ]
  },
  {
   "cell_type": "markdown",
   "id": "89186873",
   "metadata": {},
   "source": [
    "# 논문 API 호출 함수"
   ]
  },
  {
   "cell_type": "code",
   "execution_count": 30,
   "id": "940f2fd7",
   "metadata": {},
   "outputs": [],
   "source": [
    "import requests\n",
    "import xml.etree.ElementTree as ET\n",
    "import pandas as pd\n",
    "from dotenv import load_dotenv\n",
    "load_dotenv(override=True)\n",
    "\n",
    "# 관련 논문 검색 함수\n",
    "def ARTI_search(client_id, token, query):\n",
    "    url = \"https://apigateway.kisti.re.kr/openapicall.do\"\n",
    "    params = {\n",
    "        \"client_id\": client_id,\n",
    "        \"token\": token,\n",
    "        \"version\": 1.0,\n",
    "        \"action\": \"search\",\n",
    "        \"target\": \"ARTI\",\n",
    "        \"searchQuery\": query,\n",
    "        'curPage': 1, # 현재페이지 번호\n",
    "        'rowCount': 10, # 디스플레이 건수(기본값 10, 최대값 100)\n",
    "\n",
    "    }\n",
    "    print(\"🔎 호출 URL 미리보기:\", requests.Request('GET', url, params=params).prepare().url)\n",
    "    res = requests.get(url, params=params, timeout=20)\n",
    "    xml = res.text\n",
    "    \n",
    "    df = xml_to_df(xml)\n",
    "    return df\n",
    "\n",
    "\n",
    "# 단일 논문 조회 함수\n",
    "def ARTI_browse(client_id, token, cn):\n",
    "    \n",
    "    url = \"https://apigateway.kisti.re.kr/openapicall.do\"\n",
    "    params = {\n",
    "        \"client_id\": client_id,\n",
    "        \"token\": token,\n",
    "        \"version\": 1.0,\n",
    "        \"action\": \"browse\",\n",
    "        \"target\": \"ARTI\",\n",
    "        \"cn\": cn,\n",
    "        \"include\": \"\",\n",
    "        \"exclude\": None,\n",
    "    }\n",
    "    \n",
    "    print(\"🔎 호출 URL 미리보기:\", requests.Request('GET', url, params=params).prepare().url)\n",
    "    res = requests.get(url, params=params, timeout=20)\n",
    "    xml = res.text\n",
    "    \n",
    "    df = xml_to_df(xml)\n",
    "    return df\n",
    "\n",
    "def xml_to_df(xml):\n",
    "    # XML 파싱\n",
    "    root = ET.fromstring(xml)\n",
    "\n",
    "    # recordList 찾기\n",
    "    record_list_element = root.find('recordList')\n",
    "\n",
    "    # 데이터를 담을 리스트\n",
    "    records = []\n",
    "\n",
    "    if record_list_element is not None:\n",
    "        # 각 record에 대해 반복\n",
    "        for record_element in record_list_element.findall('record'):\n",
    "            record_data = {}\n",
    "            # 각 item에 대해 반복\n",
    "            for item_element in record_element.findall('item'):\n",
    "                meta_code = item_element.get('metaCode')\n",
    "                # CDATA 섹션의 텍스트 추출\n",
    "                value = item_element.text.strip() if item_element.text else ''\n",
    "                record_data[meta_code] = value\n",
    "            records.append(record_data)\n",
    "\n",
    "    df = pd.DataFrame(records)\n",
    "    return df"
   ]
  },
  {
   "cell_type": "markdown",
   "id": "1154993b",
   "metadata": {},
   "source": [
    "# 논문 가져오기"
   ]
  },
  {
   "cell_type": "code",
   "execution_count": 31,
   "id": "dd9ef382",
   "metadata": {},
   "outputs": [
    {
     "name": "stdout",
     "output_type": "stream",
     "text": [
      "🔎 호출 URL 미리보기: https://apigateway.kisti.re.kr/openapicall.do?client_id=5e9c4c6079d323f1a6accb980253cac8733c0249be263f11da5fbc9b2f7cb58d&token=19d40b9fa84890f25c8b124291f1c7471f161ef056be8b4b16ca77be416ea873&version=1.0&action=browse&target=ARTI&cn=JAKO200411922932805&include=\n",
      "한국인의 3차원 무릎관절 구축 및 형상 측정\n",
      "It is necessary to have a model that describes the feature of the knee Joint with a sufficient accuracy. Koreans, however, do not have their own knee joint model to be used in the total knee replacement arthroplasty. They have to use European or American models which do not match Koreans. Three-dimensional visualization techniques are found to be useful in a wide range of medical applications. Three-dimensional imaging studies such as CT(computed tomography) and MRI(magnetic resonance image) provide the primary source of patient-specific data. Three-dimensional knee joint models were constructed by image processing of the CT data of 10 subjects. Using the constructed model, the dimensions of Korean knee joint were measured. And this study proposed a three-dimensional model and data, which can be helpful to develop Korean knee implants and to analyze knee joint movements.\n"
     ]
    }
   ],
   "source": [
    "import os\n",
    "from dotenv import load_dotenv\n",
    "\n",
    "load_dotenv(override=True)\n",
    "\n",
    "CLIENT_ID = os.getenv(\"SCIENCEON_CLIENT_ID\")\n",
    "ARTI_KEY = os.getenv(\"SCIENCEON_API_KEY\")\n",
    "MAC_ADDRESS = os.getenv(\"MAC_ADDRESS\")\n",
    "\n",
    "access_token = call_access_token(MAC_ADDRESS, ARTI_KEY, CLIENT_ID)\n",
    "\n",
    "cn = 'JAKO200411922932805'\n",
    "\n",
    "df = ARTI_browse(CLIENT_ID, access_token, cn)\n",
    "\n",
    "print(df['Title'].iloc[0])\n",
    "print(df['Abstract'].iloc[0])"
   ]
  },
  {
   "cell_type": "code",
   "execution_count": 33,
   "id": "ef3f9f67",
   "metadata": {},
   "outputs": [
    {
     "name": "stdout",
     "output_type": "stream",
     "text": [
      "🔎 호출 URL 미리보기: https://apigateway.kisti.re.kr/openapicall.do?client_id=5e9c4c6079d323f1a6accb980253cac8733c0249be263f11da5fbc9b2f7cb58d&token=b5659c1d53e6351583de8a1837a2d22c38b488c6bd2d150831736974aefd6b6e&version=1.0&action=search&target=ARTI&searchQuery=Architectural+Urbanism&curPage=1&rowCount=10\n"
     ]
    },
    {
     "data": {
      "application/vnd.microsoft.datawrangler.viewer.v0+json": {
       "columns": [
        {
         "name": "index",
         "rawType": "int64",
         "type": "integer"
        }
       ],
       "ref": "db6c740d-5a32-4407-a1be-9df56161e822",
       "rows": [],
       "shape": {
        "columns": 0,
        "rows": 0
       }
      },
      "text/html": [
       "<div>\n",
       "<style scoped>\n",
       "    .dataframe tbody tr th:only-of-type {\n",
       "        vertical-align: middle;\n",
       "    }\n",
       "\n",
       "    .dataframe tbody tr th {\n",
       "        vertical-align: top;\n",
       "    }\n",
       "\n",
       "    .dataframe thead th {\n",
       "        text-align: right;\n",
       "    }\n",
       "</style>\n",
       "<table border=\"1\" class=\"dataframe\">\n",
       "  <thead>\n",
       "    <tr style=\"text-align: right;\">\n",
       "      <th></th>\n",
       "    </tr>\n",
       "  </thead>\n",
       "  <tbody>\n",
       "  </tbody>\n",
       "</table>\n",
       "</div>"
      ],
      "text/plain": [
       "Empty DataFrame\n",
       "Columns: []\n",
       "Index: []"
      ]
     },
     "metadata": {},
     "output_type": "display_data"
    }
   ],
   "source": [
    "import os\n",
    "from dotenv import load_dotenv\n",
    "\n",
    "load_dotenv(override=True)\n",
    "\n",
    "CLIENT_ID = os.getenv(\"SCIENCEON_CLIENT_ID\")\n",
    "ARTI_KEY = os.getenv(\"SCIENCEON_API_KEY\")\n",
    "MAC_ADDRESS = os.getenv(\"MAC_ADDRESS\")\n",
    "\n",
    "access_token = call_access_token(MAC_ADDRESS, ARTI_KEY, CLIENT_ID)\n",
    "\n",
    "\n",
    "query = 'Architectural Urbanism'\n",
    "\n",
    "df = ARTI_search(CLIENT_ID, access_token, query)\n",
    "\n",
    "display(df)"
   ]
  },
  {
   "cell_type": "code",
   "execution_count": null,
   "id": "f3a518e7",
   "metadata": {},
   "outputs": [
    {
     "data": {
      "text/plain": [
       "14"
      ]
     },
     "execution_count": 56,
     "metadata": {},
     "output_type": "execute_result"
    }
   ],
   "source": []
  }
 ],
 "metadata": {
  "kernelspec": {
   "display_name": "venv",
   "language": "python",
   "name": "python3"
  },
  "language_info": {
   "codemirror_mode": {
    "name": "ipython",
    "version": 3
   },
   "file_extension": ".py",
   "mimetype": "text/x-python",
   "name": "python",
   "nbconvert_exporter": "python",
   "pygments_lexer": "ipython3",
   "version": "3.13.2"
  }
 },
 "nbformat": 4,
 "nbformat_minor": 5
}
