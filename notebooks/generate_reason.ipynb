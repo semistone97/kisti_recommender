{
 "cells": [
  {
   "cell_type": "markdown",
   "id": "56bf2391",
   "metadata": {},
   "source": [
    "# 추천사유 생성"
   ]
  },
  {
   "cell_type": "markdown",
   "id": "bace422f",
   "metadata": {},
   "source": [
    "## 결과물 형태"
   ]
  },
  {
   "cell_type": "code",
   "execution_count": 5,
   "id": "9fb6ea6d",
   "metadata": {},
   "outputs": [],
   "source": [
    "# Schema\n",
    "from typing_extensions import Annotated\n",
    "from pydantic import Field, BaseModel\n",
    "\n",
    "class IDRelevance(BaseModel):\n",
    "    relevant_id: Annotated[\n",
    "        list[str],\n",
    "        Field(\n",
    "            ..., \n",
    "            description=(\n",
    "                \"데이터의 ID 목록\"\n",
    "            ), \n",
    "        )\n",
    "    ]\n",
    "    reason: Annotated[\n",
    "        list[str],\n",
    "        Field(\n",
    "            ..., \n",
    "            description=\"각 ID가 선정된 이유를 설명하는 문자열 목록. relevant_id와 인덱스가 일치해야 합니다.\",\n",
    "        )\n",
    "    ]"
   ]
  },
  {
   "cell_type": "markdown",
   "id": "531fb6ee",
   "metadata": {},
   "source": [
    "## 프롬프트"
   ]
  },
  {
   "cell_type": "code",
   "execution_count": 6,
   "id": "039bc6d7",
   "metadata": {},
   "outputs": [],
   "source": [
    "# Prompt\n",
    "from langchain_core.prompts import PromptTemplate\n",
    "\n",
    "reason_template = '''\n",
    "당신은 데이터 과학자입니다. 아래는 연구 데이터 목록입니다.\n",
    "\n",
    "각 데이터 혹은 논문 항목은 다음 컬럼을 가지고 있습니다:\n",
    "- ID: 각 데이터의 고유키\n",
    "- 제목\n",
    "- 설명\n",
    "- 키워드\n",
    "\n",
    "[목표]\n",
    "모든 항목에 대해 해당 항목의 선정 사유를 작성해 주세요.\n",
    "\n",
    "**중요: relevant_id와 reason의 개수는 반드시 동일해야 합니다.**\n",
    "\n",
    "[Input]\n",
    "연구 주제: {title}\n",
    "연구 설명: {description}\n",
    "키워드: {keyword}\n",
    "\n",
    "[Data]\n",
    "데이터 목록:\n",
    "{data}\n",
    "\n",
    "[Output]\n",
    "다음 형식의 JSON을 출력하세요. relevant_id와 reason의 길이가 정확히 일치해야 합니다:\n",
    "\n",
    "{{\n",
    "  \"relevant_id\": [\"ID1\", \"ID2\", \"ID3\"],\n",
    "  \"reason\": [\"이유1\", \"이유2\", \"이유3\"]\n",
    "}}\n",
    "'''\n",
    "\n",
    "reason_prompt = PromptTemplate.from_template(reason_template)\n"
   ]
  },
  {
   "cell_type": "markdown",
   "id": "bee55eee",
   "metadata": {},
   "source": [
    "## 작동 방식"
   ]
  },
  {
   "cell_type": "code",
   "execution_count": 7,
   "id": "c148bfe5",
   "metadata": {},
   "outputs": [],
   "source": [
    "# 예시 데이터\n",
    "import json\n",
    "import pandas as pd\n",
    "\n",
    "# title, description, keyword\n",
    "with open(\"../data/input_data.json\", \"r\", encoding=\"utf-8\") as f:\n",
    "    input_data = json.load(f)\n",
    "\n",
    "try:\n",
    "    title = input_data['dataset_title_etc_main']\n",
    "    description = input_data['dataset_expl_etc_main']\n",
    "    keyword = input_data['dataset_expl_etc_main']\n",
    "    input_id = input_data['svc_id']\n",
    "\n",
    "except:\n",
    "    items = input_data[\"MetaData\"][\"recordList\"][\"record\"][\"item\"]\n",
    "    title = next(i[\"#text\"] for i in items if i[\"@metaCode\"] == \"Title\")\n",
    "    description = next(i[\"#text\"] for i in items if i[\"@metaCode\"] == \"Abstract\")\n",
    "    keyword = next(i[\"#text\"] for i in items if i[\"@metaCode\"] == \"Keyword\")\n",
    "    input_id = next(i[\"#text\"] for i in items if i[\"@metaCode\"] == \"CN\")\n",
    "    \n",
    "# data\n",
    "df_article = pd.read_csv('../data/search_results_article.csv', encoding='UTF-8', low_memory=False)\n",
    "df_data = pd.read_csv('../data/search_results_dataset.csv', encoding='UTF-8', low_memory=False)\n",
    "\n",
    "cleaned_df_data = (\n",
    "    df_data[\n",
    "        ['svc_id', 'dataset_title_etc_main', 'dataset_expl_etc_main','dataset_pub_dt_pc', 'dataset_kywd_etc_main', 'dataset_creator_etc_main', 'dataset_lndgpg', 'query']\n",
    "    ]\n",
    "    .rename(\n",
    "        columns={\n",
    "            'svc_id': 'ID',\n",
    "            'dataset_title_etc_main': 'title',\n",
    "            'dataset_expl_etc_main': 'description',\n",
    "            'dataset_pub_dt_pc': 'pubyear',\n",
    "            'dataset_kywd_etc_main': 'keyword',\n",
    "            'dataset_creator_etc_main': 'author',\n",
    "            'dataset_lndgpg': 'URL',\n",
    "        }\n",
    "    )\n",
    ")\n",
    "cleaned_df_data['category'] = 'dataset'\n",
    "\n",
    "cleaned_df_arti = (\n",
    "    df_article[\n",
    "        ['CN', 'Title', 'Abstract', 'Pubyear', 'Keyword', 'Author', 'ContentURL', 'query']\n",
    "    ]\n",
    "    .rename(\n",
    "        columns={\n",
    "            'CN': 'ID',\n",
    "            'Title': 'title',\n",
    "            'Abstract': 'description',\n",
    "            'Pubyear': 'pubyear',\n",
    "            'Keyword': 'keyword',\n",
    "            'Author': 'author',\n",
    "            'ContentURL': 'URL'\n",
    "        }\n",
    "    )\n",
    ")\n",
    "cleaned_df_arti['category'] = 'article'\n",
    "\n",
    "df = pd.concat([cleaned_df_arti, cleaned_df_data], ignore_index=True)\n",
    "\n",
    "# relevance_data\n",
    "relevance_df = pd.read_csv('../data/relevance_results.csv', encoding='UTF-8', low_memory=False)"
   ]
  },
  {
   "cell_type": "code",
   "execution_count": 9,
   "id": "06c5070f",
   "metadata": {},
   "outputs": [
    {
     "data": {
      "application/vnd.microsoft.datawrangler.viewer.v0+json": {
       "columns": [
        {
         "name": "index",
         "rawType": "int64",
         "type": "integer"
        },
        {
         "name": "ID",
         "rawType": "object",
         "type": "string"
        },
        {
         "name": "relevance",
         "rawType": "float64",
         "type": "float"
        },
        {
         "name": "reason",
         "rawType": "object",
         "type": "string"
        }
       ],
       "ref": "a302086f-9dda-41c5-a61c-b09e065e32be",
       "rows": [
        [
         "0",
         "d023e479d6a3e09f0d7988cf38a4436b",
         "92.56636",
         "이 데이터는 O.Granite Harbor에서 수집된 중력 코어 샘플로, 연구 주제와 동일한 지역에서의 기후 변화 관찰을 포함하고 있습니다."
        ],
        [
         "1",
         "ff96e62579ae3046d133440562968c39",
         "92.31045",
         "이 데이터는 O.Granite Harbor 근처에서 수집된 중력 코어 샘플로, 연구 주제와 관련된 기후 변화 연구에 기여할 수 있습니다."
        ],
        [
         "2",
         "21f628ecb675030dedda1149f466adae",
         "91.94792",
         "이 데이터는 Ross Sea에서의 중력 코어 샘플링을 다루고 있으며, 연구 주제와 유사한 기후 변화 관찰을 포함하고 있습니다."
        ],
        [
         "3",
         "e83e64b3b4ea6a9982da08310ea27b1b",
         "91.60432",
         "이 데이터는 W.Beanfort Island에서 수집된 중력 코어 샘플로, 연구 주제와 관련된 기후 변화 연구에 중요한 정보를 제공합니다."
        ],
        [
         "4",
         "83d26621eaf49e20d987f3d7d4005122",
         "91.57433",
         "이 데이터는 Ross Sea에서의 중력 코어 샘플링을 다루고 있으며, 연구 주제와 유사한 지역에서 수집된 데이터입니다."
        ]
       ],
       "shape": {
        "columns": 3,
        "rows": 5
       }
      },
      "text/html": [
       "<div>\n",
       "<style scoped>\n",
       "    .dataframe tbody tr th:only-of-type {\n",
       "        vertical-align: middle;\n",
       "    }\n",
       "\n",
       "    .dataframe tbody tr th {\n",
       "        vertical-align: top;\n",
       "    }\n",
       "\n",
       "    .dataframe thead th {\n",
       "        text-align: right;\n",
       "    }\n",
       "</style>\n",
       "<table border=\"1\" class=\"dataframe\">\n",
       "  <thead>\n",
       "    <tr style=\"text-align: right;\">\n",
       "      <th></th>\n",
       "      <th>ID</th>\n",
       "      <th>relevance</th>\n",
       "      <th>reason</th>\n",
       "    </tr>\n",
       "  </thead>\n",
       "  <tbody>\n",
       "    <tr>\n",
       "      <th>0</th>\n",
       "      <td>d023e479d6a3e09f0d7988cf38a4436b</td>\n",
       "      <td>92.56636</td>\n",
       "      <td>이 데이터는 O.Granite Harbor에서 수집된 중력 코어 샘플로, 연구 주제...</td>\n",
       "    </tr>\n",
       "    <tr>\n",
       "      <th>1</th>\n",
       "      <td>ff96e62579ae3046d133440562968c39</td>\n",
       "      <td>92.31045</td>\n",
       "      <td>이 데이터는 O.Granite Harbor 근처에서 수집된 중력 코어 샘플로, 연구...</td>\n",
       "    </tr>\n",
       "    <tr>\n",
       "      <th>2</th>\n",
       "      <td>21f628ecb675030dedda1149f466adae</td>\n",
       "      <td>91.94792</td>\n",
       "      <td>이 데이터는 Ross Sea에서의 중력 코어 샘플링을 다루고 있으며, 연구 주제와 ...</td>\n",
       "    </tr>\n",
       "    <tr>\n",
       "      <th>3</th>\n",
       "      <td>e83e64b3b4ea6a9982da08310ea27b1b</td>\n",
       "      <td>91.60432</td>\n",
       "      <td>이 데이터는 W.Beanfort Island에서 수집된 중력 코어 샘플로, 연구 주...</td>\n",
       "    </tr>\n",
       "    <tr>\n",
       "      <th>4</th>\n",
       "      <td>83d26621eaf49e20d987f3d7d4005122</td>\n",
       "      <td>91.57433</td>\n",
       "      <td>이 데이터는 Ross Sea에서의 중력 코어 샘플링을 다루고 있으며, 연구 주제와 ...</td>\n",
       "    </tr>\n",
       "  </tbody>\n",
       "</table>\n",
       "</div>"
      ],
      "text/plain": [
       "                                 ID  relevance  \\\n",
       "0  d023e479d6a3e09f0d7988cf38a4436b   92.56636   \n",
       "1  ff96e62579ae3046d133440562968c39   92.31045   \n",
       "2  21f628ecb675030dedda1149f466adae   91.94792   \n",
       "3  e83e64b3b4ea6a9982da08310ea27b1b   91.60432   \n",
       "4  83d26621eaf49e20d987f3d7d4005122   91.57433   \n",
       "\n",
       "                                              reason  \n",
       "0  이 데이터는 O.Granite Harbor에서 수집된 중력 코어 샘플로, 연구 주제...  \n",
       "1  이 데이터는 O.Granite Harbor 근처에서 수집된 중력 코어 샘플로, 연구...  \n",
       "2  이 데이터는 Ross Sea에서의 중력 코어 샘플링을 다루고 있으며, 연구 주제와 ...  \n",
       "3  이 데이터는 W.Beanfort Island에서 수집된 중력 코어 샘플로, 연구 주...  \n",
       "4  이 데이터는 Ross Sea에서의 중력 코어 샘플링을 다루고 있으며, 연구 주제와 ...  "
      ]
     },
     "metadata": {},
     "output_type": "display_data"
    }
   ],
   "source": [
    "# Node\n",
    "from langchain_openai import ChatOpenAI\n",
    "\n",
    "relevant_ids = relevance_df['ID'].tolist()\n",
    "filtered_df = df[df['ID'].isin(relevant_ids)]\n",
    "\n",
    "prompt = reason_prompt.invoke(\n",
    "    {\n",
    "        'title': title, \n",
    "        'description': description,\n",
    "        'keyword': keyword,\n",
    "        'data': filtered_df[['ID', 'title', 'description', 'keyword']].to_dict(orient=\"records\"),\n",
    "    }\n",
    ")\n",
    "\n",
    "sllm = ChatOpenAI(model='gpt-4o-mini', temperature=0)\n",
    "\n",
    "structured_sllm = sllm.with_structured_output(IDRelevance)\n",
    "res = structured_sllm.invoke(prompt)\n",
    "    \n",
    "tmp = pd.DataFrame({\n",
    "    'ID': res.relevant_id,\n",
    "    'reason': res.reason\n",
    "})\n",
    "\n",
    "relevance_df = pd.merge(\n",
    "    relevance_df[['ID', 'relevance']],\n",
    "    tmp,\n",
    "    on='ID',\n",
    "    how='left'\n",
    ")\n",
    "\n",
    "relevance_df.to_csv('../data/relevance_results.csv', index=False, encoding='utf-8')\n",
    "\n",
    "display(relevance_df)"
   ]
  }
 ],
 "metadata": {
  "kernelspec": {
   "display_name": "venv (3.13.2)",
   "language": "python",
   "name": "python3"
  },
  "language_info": {
   "codemirror_mode": {
    "name": "ipython",
    "version": 3
   },
   "file_extension": ".py",
   "mimetype": "text/x-python",
   "name": "python",
   "nbconvert_exporter": "python",
   "pygments_lexer": "ipython3",
   "version": "3.13.2"
  }
 },
 "nbformat": 4,
 "nbformat_minor": 5
}
