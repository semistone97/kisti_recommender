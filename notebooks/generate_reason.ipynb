{
 "cells": [
  {
   "cell_type": "markdown",
   "id": "56bf2391",
   "metadata": {},
   "source": [
    "# 추천사유 생성"
   ]
  },
  {
   "cell_type": "markdown",
   "id": "bace422f",
   "metadata": {},
   "source": [
    "## 결과물 형태"
   ]
  },
  {
   "cell_type": "code",
   "execution_count": 1,
   "id": "9fb6ea6d",
   "metadata": {},
   "outputs": [],
   "source": [
    "# Schema\n",
    "from typing_extensions import Annotated\n",
    "from pydantic import Field, BaseModel\n",
    "\n",
    "class IDRelevance(BaseModel):\n",
    "    relevant_id: Annotated[\n",
    "        list[str],\n",
    "        Field(\n",
    "            ..., \n",
    "            description=(\n",
    "                \"데이터의 ID 목록\"\n",
    "            ), \n",
    "        )\n",
    "    ]\n",
    "    reason: Annotated[\n",
    "        list[str],\n",
    "        Field(\n",
    "            ..., \n",
    "            description=\"각 ID가 선정된 이유를 설명하는 문자열 목록. relevant_id와 인덱스가 일치해야 합니다.\",\n",
    "        )\n",
    "    ]"
   ]
  },
  {
   "cell_type": "markdown",
   "id": "531fb6ee",
   "metadata": {},
   "source": [
    "## 프롬프트"
   ]
  },
  {
   "cell_type": "code",
   "execution_count": 2,
   "id": "039bc6d7",
   "metadata": {},
   "outputs": [],
   "source": [
    "# Prompt\n",
    "from langchain_core.prompts import PromptTemplate\n",
    "\n",
    "reason_template = '''\n",
    "You are a data scientist. Your task is to explain clearly why each listed paper or dataset\n",
    "was selected for recommendation, so that users can easily understand the reasoning.\n",
    "\n",
    "[Writing Guidelines]\n",
    "1) You must provide exactly one explanation for each ID. Do not give overall summaries.\n",
    "2) Each reason must explicitly describe the connection between the research topic and the data item.\n",
    "3) Each reason should include at least two of the following elements:\n",
    "   \n",
    "Keyword or topical similarity\n",
    "Alignment in methodology or model\n",
    "Match in domain or application context\n",
    "4) Use an objective, descriptive tone. Avoid exaggeration or subjective evaluation.\n",
    "5) Each reason should be 1–2 sentences long, about 60 words or fewer.\n",
    "6) The number of items in \"relevant_id\" and \"reason\" must be identical,\n",
    "   and the index i of each list must correspond to the same item.\n",
    "7) Do not output any text other than JSON, and use only the keys \"relevant_id\" and \"reason\".\n",
    "\n",
    "[Self-check]\n",
    "Before finalizing your output, verify that the lengths of \"relevant_id\" and \"reason\" are equal.\n",
    "If they differ, adjust the list of reasons to match the number of IDs.\n",
    "If a reason sounds too generic, directly reference at least one supporting term\n",
    "from the input topic, or from that item’s title or keywords.\n",
    "\n",
    "[Input]\n",
    "Research Topic: {title}\n",
    "Research Description: {description}\n",
    "Keywords: {keyword}\n",
    "\n",
    "[Data]\n",
    "Data list:\n",
    "{data}\n",
    "\n",
    "[Output(JSON)]\n",
    "{{\n",
    "  \"relevant_id\": [\"ID1\", \"ID2\", \"ID3\"],\n",
    "  \"reason\": [\n",
    "    \"ID1 aligns with the keyword 'Transformer' from the input topic and covers a similar NLP task.\",\n",
    "    \"ID2 applies the same 'image classification' methodology described in the input.\",\n",
    "    \"ID3 belongs to the 'climate data analysis' domain and shares the same application context as the topic.\"\n",
    "  ]\n",
    "}}\n",
    "'''\n",
    "\n",
    "\n",
    "reason_prompt = PromptTemplate.from_template(reason_template)\n"
   ]
  },
  {
   "cell_type": "markdown",
   "id": "e94391c3",
   "metadata": {},
   "source": [
    "## 예시 데이터"
   ]
  },
  {
   "cell_type": "code",
   "execution_count": 3,
   "id": "c148bfe5",
   "metadata": {},
   "outputs": [],
   "source": [
    "# title, description, keyword\n",
    "import json\n",
    "\n",
    "with open(\"../data/input_data.json\", \"r\", encoding=\"utf-8\") as f:\n",
    "    input_data = json.load(f)\n",
    "\n",
    "try:\n",
    "    title = input_data['dataset_title_etc_main']\n",
    "    description = input_data['dataset_expl_etc_main']\n",
    "    keyword = input_data['dataset_expl_etc_main']\n",
    "    input_id = input_data['svc_id']\n",
    "\n",
    "except:\n",
    "    items = input_data[\"MetaData\"][\"recordList\"][\"record\"][\"item\"]\n",
    "    title = next(i[\"#text\"] for i in items if i[\"@metaCode\"] == \"Title\")\n",
    "    description = next(i[\"#text\"] for i in items if i[\"@metaCode\"] == \"Abstract\")\n",
    "    keyword = next(i[\"#text\"] for i in items if i[\"@metaCode\"] == \"Keyword\")\n",
    "    input_id = next(i[\"#text\"] for i in items if i[\"@metaCode\"] == \"CN\")\n",
    "    "
   ]
  },
  {
   "cell_type": "code",
   "execution_count": 4,
   "id": "b25fac43",
   "metadata": {},
   "outputs": [],
   "source": [
    "# data\n",
    "import pandas as pd\n",
    "\n",
    "df_article = pd.read_csv('../data/search_results_article.csv', encoding='UTF-8', low_memory=False)\n",
    "df_data = pd.read_csv('../data/search_results_dataset.csv', encoding='UTF-8', low_memory=False)\n",
    "\n",
    "cleaned_df_data = (\n",
    "    df_data[\n",
    "        ['svc_id', 'dataset_title_etc_main', 'dataset_expl_etc_main','dataset_pub_dt_pc', 'dataset_kywd_etc_main', 'dataset_creator_etc_main', 'dataset_lndgpg', 'query']\n",
    "    ]\n",
    "    .rename(\n",
    "        columns={\n",
    "            'svc_id': 'ID',\n",
    "            'dataset_title_etc_main': 'title',\n",
    "            'dataset_expl_etc_main': 'description',\n",
    "            'dataset_pub_dt_pc': 'pubyear',\n",
    "            'dataset_kywd_etc_main': 'keyword',\n",
    "            'dataset_creator_etc_main': 'author',\n",
    "            'dataset_lndgpg': 'URL',\n",
    "        }\n",
    "    )\n",
    ")\n",
    "cleaned_df_data['category'] = 'dataset'\n",
    "\n",
    "cleaned_df_arti = (\n",
    "    df_article[\n",
    "        ['CN', 'Title', 'Abstract', 'Pubyear', 'Keyword', 'Author', 'ContentURL', 'query']\n",
    "    ]\n",
    "    .rename(\n",
    "        columns={\n",
    "            'CN': 'ID',\n",
    "            'Title': 'title',\n",
    "            'Abstract': 'description',\n",
    "            'Pubyear': 'pubyear',\n",
    "            'Keyword': 'keyword',\n",
    "            'Author': 'author',\n",
    "            'ContentURL': 'URL'\n",
    "        }\n",
    "    )\n",
    ")\n",
    "cleaned_df_arti['category'] = 'article'\n",
    "\n",
    "df = pd.concat([cleaned_df_arti, cleaned_df_data], ignore_index=True)\n"
   ]
  },
  {
   "cell_type": "code",
   "execution_count": 5,
   "id": "b6ff3099",
   "metadata": {},
   "outputs": [],
   "source": [
    "# relevance_data\n",
    "relevance_df = pd.read_csv('../data/relevance_results.csv', encoding='UTF-8', low_memory=False)"
   ]
  },
  {
   "cell_type": "markdown",
   "id": "bee55eee",
   "metadata": {},
   "source": [
    "## 작동 방식"
   ]
  },
  {
   "cell_type": "code",
   "execution_count": 6,
   "id": "06c5070f",
   "metadata": {},
   "outputs": [
    {
     "name": "stderr",
     "output_type": "stream",
     "text": [
      "Failed to send compressed multipart ingest: langsmith.utils.LangSmithError: Failed to POST https://api.smith.langchain.com/runs/multipart in LangSmith API. HTTPError('422 Client Error: unknown for url: https://api.smith.langchain.com/runs/multipart', '{\"error\":\"Unprocessable entity: invalid JSON part for post.620177fb-aff8-455d-bc35-a849c1c8fd0a: could not unmarshal run: invalid character \\'-\\' after top-level value\"}\\n')\n"
     ]
    },
    {
     "ename": "KeyboardInterrupt",
     "evalue": "",
     "output_type": "error",
     "traceback": [
      "\u001b[31m---------------------------------------------------------------------------\u001b[39m",
      "\u001b[31mKeyboardInterrupt\u001b[39m                         Traceback (most recent call last)",
      "\u001b[36mCell\u001b[39m\u001b[36m \u001b[39m\u001b[32mIn[6]\u001b[39m\u001b[32m, line 19\u001b[39m\n\u001b[32m     16\u001b[39m sllm = ChatOpenAI(model=\u001b[33m'\u001b[39m\u001b[33mgpt-4o-mini\u001b[39m\u001b[33m'\u001b[39m, temperature=\u001b[32m0\u001b[39m)\n\u001b[32m     18\u001b[39m structured_sllm = sllm.with_structured_output(IDRelevance)\n\u001b[32m---> \u001b[39m\u001b[32m19\u001b[39m res = \u001b[43mstructured_sllm\u001b[49m\u001b[43m.\u001b[49m\u001b[43minvoke\u001b[49m\u001b[43m(\u001b[49m\u001b[43mprompt\u001b[49m\u001b[43m)\u001b[49m\n\u001b[32m     21\u001b[39m tmp = pd.DataFrame({\n\u001b[32m     22\u001b[39m     \u001b[33m'\u001b[39m\u001b[33mID\u001b[39m\u001b[33m'\u001b[39m: res.relevant_id,\n\u001b[32m     23\u001b[39m     \u001b[33m'\u001b[39m\u001b[33mreason\u001b[39m\u001b[33m'\u001b[39m: res.reason\n\u001b[32m     24\u001b[39m })\n\u001b[32m     26\u001b[39m relevance_df = pd.merge(\n\u001b[32m     27\u001b[39m     relevance_df[[\u001b[33m'\u001b[39m\u001b[33mID\u001b[39m\u001b[33m'\u001b[39m, \u001b[33m'\u001b[39m\u001b[33mrelevance\u001b[39m\u001b[33m'\u001b[39m]],\n\u001b[32m     28\u001b[39m     tmp,\n\u001b[32m     29\u001b[39m     on=\u001b[33m'\u001b[39m\u001b[33mID\u001b[39m\u001b[33m'\u001b[39m,\n\u001b[32m     30\u001b[39m     how=\u001b[33m'\u001b[39m\u001b[33mleft\u001b[39m\u001b[33m'\u001b[39m\n\u001b[32m     31\u001b[39m )\n",
      "\u001b[36mFile \u001b[39m\u001b[32mc:\\Users\\김정수\\projects\\KISTI_Recommender\\venv\\Lib\\site-packages\\langchain_core\\runnables\\base.py:3246\u001b[39m, in \u001b[36mRunnableSequence.invoke\u001b[39m\u001b[34m(self, input, config, **kwargs)\u001b[39m\n\u001b[32m   3244\u001b[39m                 input_ = context.run(step.invoke, input_, config, **kwargs)\n\u001b[32m   3245\u001b[39m             \u001b[38;5;28;01melse\u001b[39;00m:\n\u001b[32m-> \u001b[39m\u001b[32m3246\u001b[39m                 input_ = \u001b[43mcontext\u001b[49m\u001b[43m.\u001b[49m\u001b[43mrun\u001b[49m\u001b[43m(\u001b[49m\u001b[43mstep\u001b[49m\u001b[43m.\u001b[49m\u001b[43minvoke\u001b[49m\u001b[43m,\u001b[49m\u001b[43m \u001b[49m\u001b[43minput_\u001b[49m\u001b[43m,\u001b[49m\u001b[43m \u001b[49m\u001b[43mconfig\u001b[49m\u001b[43m)\u001b[49m\n\u001b[32m   3247\u001b[39m \u001b[38;5;66;03m# finish the root run\u001b[39;00m\n\u001b[32m   3248\u001b[39m \u001b[38;5;28;01mexcept\u001b[39;00m \u001b[38;5;167;01mBaseException\u001b[39;00m \u001b[38;5;28;01mas\u001b[39;00m e:\n",
      "\u001b[36mFile \u001b[39m\u001b[32mc:\\Users\\김정수\\projects\\KISTI_Recommender\\venv\\Lib\\site-packages\\langchain_core\\runnables\\base.py:5711\u001b[39m, in \u001b[36mRunnableBindingBase.invoke\u001b[39m\u001b[34m(self, input, config, **kwargs)\u001b[39m\n\u001b[32m   5704\u001b[39m \u001b[38;5;129m@override\u001b[39m\n\u001b[32m   5705\u001b[39m \u001b[38;5;28;01mdef\u001b[39;00m\u001b[38;5;250m \u001b[39m\u001b[34minvoke\u001b[39m(\n\u001b[32m   5706\u001b[39m     \u001b[38;5;28mself\u001b[39m,\n\u001b[32m   (...)\u001b[39m\u001b[32m   5709\u001b[39m     **kwargs: Optional[Any],\n\u001b[32m   5710\u001b[39m ) -> Output:\n\u001b[32m-> \u001b[39m\u001b[32m5711\u001b[39m     \u001b[38;5;28;01mreturn\u001b[39;00m \u001b[38;5;28;43mself\u001b[39;49m\u001b[43m.\u001b[49m\u001b[43mbound\u001b[49m\u001b[43m.\u001b[49m\u001b[43minvoke\u001b[49m\u001b[43m(\u001b[49m\n\u001b[32m   5712\u001b[39m \u001b[43m        \u001b[49m\u001b[38;5;28;43minput\u001b[39;49m\u001b[43m,\u001b[49m\n\u001b[32m   5713\u001b[39m \u001b[43m        \u001b[49m\u001b[38;5;28;43mself\u001b[39;49m\u001b[43m.\u001b[49m\u001b[43m_merge_configs\u001b[49m\u001b[43m(\u001b[49m\u001b[43mconfig\u001b[49m\u001b[43m)\u001b[49m\u001b[43m,\u001b[49m\n\u001b[32m   5714\u001b[39m \u001b[43m        \u001b[49m\u001b[43m*\u001b[49m\u001b[43m*\u001b[49m\u001b[43m{\u001b[49m\u001b[43m*\u001b[49m\u001b[43m*\u001b[49m\u001b[38;5;28;43mself\u001b[39;49m\u001b[43m.\u001b[49m\u001b[43mkwargs\u001b[49m\u001b[43m,\u001b[49m\u001b[43m \u001b[49m\u001b[43m*\u001b[49m\u001b[43m*\u001b[49m\u001b[43mkwargs\u001b[49m\u001b[43m}\u001b[49m\u001b[43m,\u001b[49m\n\u001b[32m   5715\u001b[39m \u001b[43m    \u001b[49m\u001b[43m)\u001b[49m\n",
      "\u001b[36mFile \u001b[39m\u001b[32mc:\\Users\\김정수\\projects\\KISTI_Recommender\\venv\\Lib\\site-packages\\langchain_core\\runnables\\base.py:5025\u001b[39m, in \u001b[36mRunnableLambda.invoke\u001b[39m\u001b[34m(self, input, config, **kwargs)\u001b[39m\n\u001b[32m   5010\u001b[39m \u001b[38;5;250m\u001b[39m\u001b[33;03m\"\"\"Invoke this ``Runnable`` synchronously.\u001b[39;00m\n\u001b[32m   5011\u001b[39m \n\u001b[32m   5012\u001b[39m \u001b[33;03mArgs:\u001b[39;00m\n\u001b[32m   (...)\u001b[39m\u001b[32m   5022\u001b[39m \n\u001b[32m   5023\u001b[39m \u001b[33;03m\"\"\"\u001b[39;00m\n\u001b[32m   5024\u001b[39m \u001b[38;5;28;01mif\u001b[39;00m \u001b[38;5;28mhasattr\u001b[39m(\u001b[38;5;28mself\u001b[39m, \u001b[33m\"\u001b[39m\u001b[33mfunc\u001b[39m\u001b[33m\"\u001b[39m):\n\u001b[32m-> \u001b[39m\u001b[32m5025\u001b[39m     \u001b[38;5;28;01mreturn\u001b[39;00m \u001b[38;5;28;43mself\u001b[39;49m\u001b[43m.\u001b[49m\u001b[43m_call_with_config\u001b[49m\u001b[43m(\u001b[49m\n\u001b[32m   5026\u001b[39m \u001b[43m        \u001b[49m\u001b[38;5;28;43mself\u001b[39;49m\u001b[43m.\u001b[49m\u001b[43m_invoke\u001b[49m\u001b[43m,\u001b[49m\n\u001b[32m   5027\u001b[39m \u001b[43m        \u001b[49m\u001b[38;5;28;43minput\u001b[39;49m\u001b[43m,\u001b[49m\n\u001b[32m   5028\u001b[39m \u001b[43m        \u001b[49m\u001b[43mensure_config\u001b[49m\u001b[43m(\u001b[49m\u001b[43mconfig\u001b[49m\u001b[43m)\u001b[49m\u001b[43m,\u001b[49m\n\u001b[32m   5029\u001b[39m \u001b[43m        \u001b[49m\u001b[43m*\u001b[49m\u001b[43m*\u001b[49m\u001b[43mkwargs\u001b[49m\u001b[43m,\u001b[49m\n\u001b[32m   5030\u001b[39m \u001b[43m    \u001b[49m\u001b[43m)\u001b[49m\n\u001b[32m   5031\u001b[39m msg = \u001b[33m\"\u001b[39m\u001b[33mCannot invoke a coroutine function synchronously.Use `ainvoke` instead.\u001b[39m\u001b[33m\"\u001b[39m\n\u001b[32m   5032\u001b[39m \u001b[38;5;28;01mraise\u001b[39;00m \u001b[38;5;167;01mTypeError\u001b[39;00m(msg)\n",
      "\u001b[36mFile \u001b[39m\u001b[32mc:\\Users\\김정수\\projects\\KISTI_Recommender\\venv\\Lib\\site-packages\\langchain_core\\runnables\\base.py:2080\u001b[39m, in \u001b[36mRunnable._call_with_config\u001b[39m\u001b[34m(self, func, input_, config, run_type, serialized, **kwargs)\u001b[39m\n\u001b[32m   2078\u001b[39m config = ensure_config(config)\n\u001b[32m   2079\u001b[39m callback_manager = get_callback_manager_for_config(config)\n\u001b[32m-> \u001b[39m\u001b[32m2080\u001b[39m run_manager = \u001b[43mcallback_manager\u001b[49m\u001b[43m.\u001b[49m\u001b[43mon_chain_start\u001b[49m\u001b[43m(\u001b[49m\n\u001b[32m   2081\u001b[39m \u001b[43m    \u001b[49m\u001b[43mserialized\u001b[49m\u001b[43m,\u001b[49m\n\u001b[32m   2082\u001b[39m \u001b[43m    \u001b[49m\u001b[43minput_\u001b[49m\u001b[43m,\u001b[49m\n\u001b[32m   2083\u001b[39m \u001b[43m    \u001b[49m\u001b[43mrun_type\u001b[49m\u001b[43m=\u001b[49m\u001b[43mrun_type\u001b[49m\u001b[43m,\u001b[49m\n\u001b[32m   2084\u001b[39m \u001b[43m    \u001b[49m\u001b[43mname\u001b[49m\u001b[43m=\u001b[49m\u001b[43mconfig\u001b[49m\u001b[43m.\u001b[49m\u001b[43mget\u001b[49m\u001b[43m(\u001b[49m\u001b[33;43m\"\u001b[39;49m\u001b[33;43mrun_name\u001b[39;49m\u001b[33;43m\"\u001b[39;49m\u001b[43m)\u001b[49m\u001b[43m \u001b[49m\u001b[38;5;129;43;01mor\u001b[39;49;00m\u001b[43m \u001b[49m\u001b[38;5;28;43mself\u001b[39;49m\u001b[43m.\u001b[49m\u001b[43mget_name\u001b[49m\u001b[43m(\u001b[49m\u001b[43m)\u001b[49m\u001b[43m,\u001b[49m\n\u001b[32m   2085\u001b[39m \u001b[43m    \u001b[49m\u001b[43mrun_id\u001b[49m\u001b[43m=\u001b[49m\u001b[43mconfig\u001b[49m\u001b[43m.\u001b[49m\u001b[43mpop\u001b[49m\u001b[43m(\u001b[49m\u001b[33;43m\"\u001b[39;49m\u001b[33;43mrun_id\u001b[39;49m\u001b[33;43m\"\u001b[39;49m\u001b[43m,\u001b[49m\u001b[43m \u001b[49m\u001b[38;5;28;43;01mNone\u001b[39;49;00m\u001b[43m)\u001b[49m\u001b[43m,\u001b[49m\n\u001b[32m   2086\u001b[39m \u001b[43m\u001b[49m\u001b[43m)\u001b[49m\n\u001b[32m   2087\u001b[39m \u001b[38;5;28;01mtry\u001b[39;00m:\n\u001b[32m   2088\u001b[39m     child_config = patch_config(config, callbacks=run_manager.get_child())\n",
      "\u001b[36mFile \u001b[39m\u001b[32mc:\\Users\\김정수\\projects\\KISTI_Recommender\\venv\\Lib\\site-packages\\langchain_core\\callbacks\\manager.py:1447\u001b[39m, in \u001b[36mCallbackManager.on_chain_start\u001b[39m\u001b[34m(self, serialized, inputs, run_id, **kwargs)\u001b[39m\n\u001b[32m   1445\u001b[39m \u001b[38;5;28;01mif\u001b[39;00m run_id \u001b[38;5;129;01mis\u001b[39;00m \u001b[38;5;28;01mNone\u001b[39;00m:\n\u001b[32m   1446\u001b[39m     run_id = uuid.uuid4()\n\u001b[32m-> \u001b[39m\u001b[32m1447\u001b[39m \u001b[43mhandle_event\u001b[49m\u001b[43m(\u001b[49m\n\u001b[32m   1448\u001b[39m \u001b[43m    \u001b[49m\u001b[38;5;28;43mself\u001b[39;49m\u001b[43m.\u001b[49m\u001b[43mhandlers\u001b[49m\u001b[43m,\u001b[49m\n\u001b[32m   1449\u001b[39m \u001b[43m    \u001b[49m\u001b[33;43m\"\u001b[39;49m\u001b[33;43mon_chain_start\u001b[39;49m\u001b[33;43m\"\u001b[39;49m\u001b[43m,\u001b[49m\n\u001b[32m   1450\u001b[39m \u001b[43m    \u001b[49m\u001b[33;43m\"\u001b[39;49m\u001b[33;43mignore_chain\u001b[39;49m\u001b[33;43m\"\u001b[39;49m\u001b[43m,\u001b[49m\n\u001b[32m   1451\u001b[39m \u001b[43m    \u001b[49m\u001b[43mserialized\u001b[49m\u001b[43m,\u001b[49m\n\u001b[32m   1452\u001b[39m \u001b[43m    \u001b[49m\u001b[43minputs\u001b[49m\u001b[43m,\u001b[49m\n\u001b[32m   1453\u001b[39m \u001b[43m    \u001b[49m\u001b[43mrun_id\u001b[49m\u001b[43m=\u001b[49m\u001b[43mrun_id\u001b[49m\u001b[43m,\u001b[49m\n\u001b[32m   1454\u001b[39m \u001b[43m    \u001b[49m\u001b[43mparent_run_id\u001b[49m\u001b[43m=\u001b[49m\u001b[38;5;28;43mself\u001b[39;49m\u001b[43m.\u001b[49m\u001b[43mparent_run_id\u001b[49m\u001b[43m,\u001b[49m\n\u001b[32m   1455\u001b[39m \u001b[43m    \u001b[49m\u001b[43mtags\u001b[49m\u001b[43m=\u001b[49m\u001b[38;5;28;43mself\u001b[39;49m\u001b[43m.\u001b[49m\u001b[43mtags\u001b[49m\u001b[43m,\u001b[49m\n\u001b[32m   1456\u001b[39m \u001b[43m    \u001b[49m\u001b[43mmetadata\u001b[49m\u001b[43m=\u001b[49m\u001b[38;5;28;43mself\u001b[39;49m\u001b[43m.\u001b[49m\u001b[43mmetadata\u001b[49m\u001b[43m,\u001b[49m\n\u001b[32m   1457\u001b[39m \u001b[43m    \u001b[49m\u001b[43m*\u001b[49m\u001b[43m*\u001b[49m\u001b[43mkwargs\u001b[49m\u001b[43m,\u001b[49m\n\u001b[32m   1458\u001b[39m \u001b[43m\u001b[49m\u001b[43m)\u001b[49m\n\u001b[32m   1460\u001b[39m \u001b[38;5;28;01mreturn\u001b[39;00m CallbackManagerForChainRun(\n\u001b[32m   1461\u001b[39m     run_id=run_id,\n\u001b[32m   1462\u001b[39m     handlers=\u001b[38;5;28mself\u001b[39m.handlers,\n\u001b[32m   (...)\u001b[39m\u001b[32m   1468\u001b[39m     inheritable_metadata=\u001b[38;5;28mself\u001b[39m.inheritable_metadata,\n\u001b[32m   1469\u001b[39m )\n",
      "\u001b[36mFile \u001b[39m\u001b[32mc:\\Users\\김정수\\projects\\KISTI_Recommender\\venv\\Lib\\site-packages\\langchain_core\\callbacks\\manager.py:281\u001b[39m, in \u001b[36mhandle_event\u001b[39m\u001b[34m(handlers, event_name, ignore_condition_name, *args, **kwargs)\u001b[39m\n\u001b[32m    277\u001b[39m \u001b[38;5;28;01mtry\u001b[39;00m:\n\u001b[32m    278\u001b[39m     \u001b[38;5;28;01mif\u001b[39;00m ignore_condition_name \u001b[38;5;129;01mis\u001b[39;00m \u001b[38;5;28;01mNone\u001b[39;00m \u001b[38;5;129;01mor\u001b[39;00m \u001b[38;5;129;01mnot\u001b[39;00m \u001b[38;5;28mgetattr\u001b[39m(\n\u001b[32m    279\u001b[39m         handler, ignore_condition_name\n\u001b[32m    280\u001b[39m     ):\n\u001b[32m--> \u001b[39m\u001b[32m281\u001b[39m         event = \u001b[38;5;28;43mgetattr\u001b[39;49m\u001b[43m(\u001b[49m\u001b[43mhandler\u001b[49m\u001b[43m,\u001b[49m\u001b[43m \u001b[49m\u001b[43mevent_name\u001b[49m\u001b[43m)\u001b[49m\u001b[43m(\u001b[49m\u001b[43m*\u001b[49m\u001b[43margs\u001b[49m\u001b[43m,\u001b[49m\u001b[43m \u001b[49m\u001b[43m*\u001b[49m\u001b[43m*\u001b[49m\u001b[43mkwargs\u001b[49m\u001b[43m)\u001b[49m\n\u001b[32m    282\u001b[39m         \u001b[38;5;28;01mif\u001b[39;00m asyncio.iscoroutine(event):\n\u001b[32m    283\u001b[39m             coros.append(event)\n",
      "\u001b[36mFile \u001b[39m\u001b[32mc:\\Users\\김정수\\projects\\KISTI_Recommender\\venv\\Lib\\site-packages\\langchain_core\\tracers\\base.py:282\u001b[39m, in \u001b[36mBaseTracer.on_chain_start\u001b[39m\u001b[34m(self, serialized, inputs, run_id, tags, parent_run_id, metadata, run_type, name, **kwargs)\u001b[39m\n\u001b[32m    270\u001b[39m chain_run = \u001b[38;5;28mself\u001b[39m._create_chain_run(\n\u001b[32m    271\u001b[39m     serialized=serialized,\n\u001b[32m    272\u001b[39m     inputs=inputs,\n\u001b[32m   (...)\u001b[39m\u001b[32m    279\u001b[39m     **kwargs,\n\u001b[32m    280\u001b[39m )\n\u001b[32m    281\u001b[39m \u001b[38;5;28mself\u001b[39m._start_trace(chain_run)\n\u001b[32m--> \u001b[39m\u001b[32m282\u001b[39m \u001b[38;5;28;43mself\u001b[39;49m\u001b[43m.\u001b[49m\u001b[43m_on_chain_start\u001b[49m\u001b[43m(\u001b[49m\u001b[43mchain_run\u001b[49m\u001b[43m)\u001b[49m\n\u001b[32m    283\u001b[39m \u001b[38;5;28;01mreturn\u001b[39;00m chain_run\n",
      "\u001b[36mFile \u001b[39m\u001b[32mc:\\Users\\김정수\\projects\\KISTI_Recommender\\venv\\Lib\\site-packages\\langchain_core\\tracers\\langchain.py:279\u001b[39m, in \u001b[36mLangChainTracer._on_chain_start\u001b[39m\u001b[34m(self, run)\u001b[39m\n\u001b[32m    277\u001b[39m \u001b[38;5;28;01mif\u001b[39;00m run.parent_run_id \u001b[38;5;129;01mis\u001b[39;00m \u001b[38;5;28;01mNone\u001b[39;00m:\n\u001b[32m    278\u001b[39m     run.reference_example_id = \u001b[38;5;28mself\u001b[39m.example_id\n\u001b[32m--> \u001b[39m\u001b[32m279\u001b[39m \u001b[38;5;28;43mself\u001b[39;49m\u001b[43m.\u001b[49m\u001b[43m_persist_run_single\u001b[49m\u001b[43m(\u001b[49m\u001b[43mrun\u001b[49m\u001b[43m)\u001b[49m\n",
      "\u001b[36mFile \u001b[39m\u001b[32mc:\\Users\\김정수\\projects\\KISTI_Recommender\\venv\\Lib\\site-packages\\langchain_core\\tracers\\langchain.py:217\u001b[39m, in \u001b[36mLangChainTracer._persist_run_single\u001b[39m\u001b[34m(self, run)\u001b[39m\n\u001b[32m    215\u001b[39m     \u001b[38;5;28;01mif\u001b[39;00m run.ls_client \u001b[38;5;129;01mis\u001b[39;00m \u001b[38;5;129;01mnot\u001b[39;00m \u001b[38;5;28mself\u001b[39m.client:\n\u001b[32m    216\u001b[39m         run.ls_client = \u001b[38;5;28mself\u001b[39m.client\n\u001b[32m--> \u001b[39m\u001b[32m217\u001b[39m     \u001b[43mrun\u001b[49m\u001b[43m.\u001b[49m\u001b[43mpost\u001b[49m\u001b[43m(\u001b[49m\u001b[43m)\u001b[49m\n\u001b[32m    218\u001b[39m \u001b[38;5;28;01mexcept\u001b[39;00m \u001b[38;5;167;01mException\u001b[39;00m \u001b[38;5;28;01mas\u001b[39;00m e:\n\u001b[32m    219\u001b[39m     \u001b[38;5;66;03m# Errors are swallowed by the thread executor so we need to log them here\u001b[39;00m\n\u001b[32m    220\u001b[39m     log_error_once(\u001b[33m\"\u001b[39m\u001b[33mpost\u001b[39m\u001b[33m\"\u001b[39m, e)\n",
      "\u001b[36mFile \u001b[39m\u001b[32mc:\\Users\\김정수\\projects\\KISTI_Recommender\\venv\\Lib\\site-packages\\langsmith\\run_trees.py:621\u001b[39m, in \u001b[36mRunTree.post\u001b[39m\u001b[34m(self, exclude_child_runs)\u001b[39m\n\u001b[32m    619\u001b[39m \u001b[38;5;28;01melse\u001b[39;00m:\n\u001b[32m    620\u001b[39m     kwargs = \u001b[38;5;28mself\u001b[39m._get_dicts_safe()\n\u001b[32m--> \u001b[39m\u001b[32m621\u001b[39m     \u001b[38;5;28;43mself\u001b[39;49m\u001b[43m.\u001b[49m\u001b[43mclient\u001b[49m\u001b[43m.\u001b[49m\u001b[43mcreate_run\u001b[49m\u001b[43m(\u001b[49m\u001b[43m*\u001b[49m\u001b[43m*\u001b[49m\u001b[43mkwargs\u001b[49m\u001b[43m)\u001b[49m\n\u001b[32m    622\u001b[39m \u001b[38;5;28;01mif\u001b[39;00m \u001b[38;5;28mself\u001b[39m.attachments:\n\u001b[32m    623\u001b[39m     keys = [\u001b[38;5;28mstr\u001b[39m(name) \u001b[38;5;28;01mfor\u001b[39;00m name \u001b[38;5;129;01min\u001b[39;00m \u001b[38;5;28mself\u001b[39m.attachments]\n",
      "\u001b[36mFile \u001b[39m\u001b[32mc:\\Users\\김정수\\projects\\KISTI_Recommender\\venv\\Lib\\site-packages\\langsmith\\client.py:1520\u001b[39m, in \u001b[36mClient.create_run\u001b[39m\u001b[34m(self, name, inputs, run_type, project_name, revision_id, dangerously_allow_filesystem, api_key, api_url, **kwargs)\u001b[39m\n\u001b[32m   1518\u001b[39m         \u001b[38;5;28;01mreturn\u001b[39;00m\n\u001b[32m   1519\u001b[39m \u001b[38;5;28;01melse\u001b[39;00m:\n\u001b[32m-> \u001b[39m\u001b[32m1520\u001b[39m     \u001b[38;5;28;43mself\u001b[39;49m\u001b[43m.\u001b[49m\u001b[43m_create_run\u001b[49m\u001b[43m(\u001b[49m\u001b[43mrun_create\u001b[49m\u001b[43m,\u001b[49m\u001b[43m \u001b[49m\u001b[43mapi_key\u001b[49m\u001b[43m=\u001b[49m\u001b[43mapi_key\u001b[49m\u001b[43m,\u001b[49m\u001b[43m \u001b[49m\u001b[43mapi_url\u001b[49m\u001b[43m=\u001b[49m\u001b[43mapi_url\u001b[49m\u001b[43m)\u001b[49m\n",
      "\u001b[36mFile \u001b[39m\u001b[32mc:\\Users\\김정수\\projects\\KISTI_Recommender\\venv\\Lib\\site-packages\\langsmith\\client.py:1558\u001b[39m, in \u001b[36mClient._create_run\u001b[39m\u001b[34m(self, run_create, api_key, api_url)\u001b[39m\n\u001b[32m   1552\u001b[39m logger.log(\n\u001b[32m   1553\u001b[39m     \u001b[32m5\u001b[39m,\n\u001b[32m   1554\u001b[39m     \u001b[33m\"\u001b[39m\u001b[33mAdding compressed multipart to queue with context: \u001b[39m\u001b[38;5;132;01m%s\u001b[39;00m\u001b[33m\"\u001b[39m,\n\u001b[32m   1555\u001b[39m     multipart_form.context,\n\u001b[32m   1556\u001b[39m )\n\u001b[32m   1557\u001b[39m \u001b[38;5;28;01mwith\u001b[39;00m \u001b[38;5;28mself\u001b[39m.compressed_traces.lock:\n\u001b[32m-> \u001b[39m\u001b[32m1558\u001b[39m     \u001b[43mcompress_multipart_parts_and_context\u001b[49m\u001b[43m(\u001b[49m\n\u001b[32m   1559\u001b[39m \u001b[43m        \u001b[49m\u001b[43mmultipart_form\u001b[49m\u001b[43m,\u001b[49m\n\u001b[32m   1560\u001b[39m \u001b[43m        \u001b[49m\u001b[38;5;28;43mself\u001b[39;49m\u001b[43m.\u001b[49m\u001b[43mcompressed_traces\u001b[49m\u001b[43m,\u001b[49m\n\u001b[32m   1561\u001b[39m \u001b[43m        \u001b[49m\u001b[43m_BOUNDARY\u001b[49m\u001b[43m,\u001b[49m\n\u001b[32m   1562\u001b[39m \u001b[43m    \u001b[49m\u001b[43m)\u001b[49m\n\u001b[32m   1563\u001b[39m     \u001b[38;5;28mself\u001b[39m.compressed_traces.trace_count += \u001b[32m1\u001b[39m\n\u001b[32m   1564\u001b[39m     \u001b[38;5;28mself\u001b[39m._data_available_event.set()\n",
      "\u001b[36mFile \u001b[39m\u001b[32mc:\\Users\\김정수\\projects\\KISTI_Recommender\\venv\\Lib\\site-packages\\langsmith\\_internal\\_operations.py:419\u001b[39m, in \u001b[36mcompress_multipart_parts_and_context\u001b[39m\u001b[34m(parts_and_context, compressed_traces, boundary)\u001b[39m\n\u001b[32m    414\u001b[39m         data = (\n\u001b[32m    415\u001b[39m             data.read() \u001b[38;5;28;01mif\u001b[39;00m \u001b[38;5;28misinstance\u001b[39m(data, BufferedReader) \u001b[38;5;28;01melse\u001b[39;00m \u001b[38;5;28mstr\u001b[39m(data).encode()\n\u001b[32m    416\u001b[39m         )\n\u001b[32m    418\u001b[39m     compressed_traces.uncompressed_size += \u001b[38;5;28mlen\u001b[39m(data)\n\u001b[32m--> \u001b[39m\u001b[32m419\u001b[39m     \u001b[43mwrite\u001b[49m\u001b[43m(\u001b[49m\u001b[43mdata\u001b[49m\u001b[43m)\u001b[49m\n\u001b[32m    420\u001b[39m     write(\u001b[33mb\u001b[39m\u001b[33m\"\u001b[39m\u001b[38;5;130;01m\\r\u001b[39;00m\u001b[38;5;130;01m\\n\u001b[39;00m\u001b[33m\"\u001b[39m)  \u001b[38;5;66;03m# part terminator\u001b[39;00m\n\u001b[32m    422\u001b[39m compressed_traces._context.append(parts_and_context.context)\n",
      "\u001b[31mKeyboardInterrupt\u001b[39m: "
     ]
    }
   ],
   "source": [
    "# Node\n",
    "from langchain_openai import ChatOpenAI\n",
    "\n",
    "relevant_ids = relevance_df['ID'].tolist()\n",
    "filtered_df = df[df['ID'].isin(relevant_ids)]\n",
    "\n",
    "prompt = reason_prompt.invoke(\n",
    "    {\n",
    "        'title': title, \n",
    "        'description': description,\n",
    "        'keyword': keyword,\n",
    "        'data': filtered_df[['ID', 'title', 'description', 'keyword']].to_dict(orient=\"records\"),\n",
    "    }\n",
    ")\n",
    "\n",
    "sllm = ChatOpenAI(model='gpt-4o-mini', temperature=0)\n",
    "\n",
    "structured_sllm = sllm.with_structured_output(IDRelevance)\n",
    "res = structured_sllm.invoke(prompt)\n",
    "    \n",
    "tmp = pd.DataFrame({\n",
    "    'ID': res.relevant_id,\n",
    "    'reason': res.reason\n",
    "})\n",
    "\n",
    "relevance_df = pd.merge(\n",
    "    relevance_df[['ID', 'relevance']],\n",
    "    tmp,\n",
    "    on='ID',\n",
    "    how='left'\n",
    ")\n",
    "\n",
    "# relevance_df.to_csv('../data/relevance_results.csv', index=False, encoding='utf-8')\n",
    "\n",
    "display(relevance_df)"
   ]
  }
 ],
 "metadata": {
  "kernelspec": {
   "display_name": "venv (3.13.2)",
   "language": "python",
   "name": "python3"
  },
  "language_info": {
   "codemirror_mode": {
    "name": "ipython",
    "version": 3
   },
   "file_extension": ".py",
   "mimetype": "text/x-python",
   "name": "python",
   "nbconvert_exporter": "python",
   "pygments_lexer": "ipython3",
   "version": "3.13.2"
  }
 },
 "nbformat": 4,
 "nbformat_minor": 5
}
