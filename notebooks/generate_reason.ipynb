{
 "cells": [
  {
   "cell_type": "markdown",
   "id": "56bf2391",
   "metadata": {},
   "source": [
    "# 추천사유 생성"
   ]
  },
  {
   "cell_type": "markdown",
   "id": "bace422f",
   "metadata": {},
   "source": [
    "## 결과물 형태"
   ]
  },
  {
   "cell_type": "code",
   "execution_count": 49,
   "id": "9fb6ea6d",
   "metadata": {},
   "outputs": [],
   "source": [
    "# Schema\n",
    "from typing_extensions import Annotated\n",
    "from pydantic import Field, BaseModel\n",
    "\n",
    "class IDRelevance(BaseModel):\n",
    "    relevant_id: Annotated[\n",
    "        list[str],\n",
    "        Field(\n",
    "            ..., \n",
    "            description=(\n",
    "                \"데이터의 ID 목록\"\n",
    "            ), \n",
    "        )\n",
    "    ]\n",
    "    reason: Annotated[\n",
    "        list[str],\n",
    "        Field(\n",
    "            ..., \n",
    "            description=\"각 ID가 선정된 이유를 설명하는 문자열 목록. relevant_id와 인덱스가 일치해야 합니다.\",\n",
    "        )\n",
    "    ]"
   ]
  },
  {
   "cell_type": "markdown",
   "id": "531fb6ee",
   "metadata": {},
   "source": [
    "## 프롬프트"
   ]
  },
  {
   "cell_type": "code",
   "execution_count": 50,
   "id": "039bc6d7",
   "metadata": {},
   "outputs": [],
   "source": [
    "# Prompt\n",
    "from langchain_core.prompts import PromptTemplate\n",
    "\n",
    "reason_template = '''\n",
    "당신은 데이터 과학자이며, 사용자가 특정 연구 주제에 맞는 논문과 데이터셋을 추천받을 때,\n",
    "각 항목이 왜 선택되었는지를 이해하기 쉽게 설명해야 합니다.\n",
    "\n",
    "[작성 원칙]\n",
    "1) 각 ID마다 개별 추천 이유를 반드시 1개 작성하세요. 총평 금지.\n",
    "2) 추천 이유는 주제와 데이터 항목의 연결점을 분명히 밝혀야 합니다.\n",
    "3) 연결 근거는 다음 중 2개 이상 포함: 키워드/토픽 유사성, 방법론 또는 모델 일치, 도메인/응용 맥락 일치\n",
    "4) 객관적 설명형 문체 사용, 과장·평가는 금지\n",
    "5) 각 이유는 1~2문장, 문장 길이 60자 내외\n",
    "6) relevant_id와 reason의 개수는 반드시 동일하며, 인덱스 i가 서로 대응해야 합니다.\n",
    "7) JSON 외 텍스트 출력 금지, key는 \"relevant_id\", \"reason\"만 사용\n",
    "\n",
    "[Self-check]\n",
    "출력 전에 relevant_id 길이와 reason 길이가 동일한지 스스로 점검하고, 동일하지 않다면 이유 리스트를 ID 개수에 맞춰 조정하세요.\n",
    "이유가 과도하게 일반적이라면, 입력 주제 또는 해당 항목의 제목/키워드에서 최소 1개 근거 용어를 직접 인용하세요.\n",
    "\n",
    "[Input]\n",
    "연구 주제: {title}\n",
    "연구 설명: {description}\n",
    "키워드: {keyword}\n",
    "\n",
    "[Data]\n",
    "데이터 목록:\n",
    "{data}\n",
    "\n",
    "[Output(JSON)]\n",
    "{{\n",
    "  \"relevant_id\": [],\n",
    "  \"reason\": []\n",
    "}}\n",
    "'''\n",
    "\n",
    "\n",
    "reason_prompt = PromptTemplate.from_template(reason_template)\n"
   ]
  },
  {
   "cell_type": "markdown",
   "id": "e94391c3",
   "metadata": {},
   "source": [
    "## 예시 데이터"
   ]
  },
  {
   "cell_type": "code",
   "execution_count": 51,
   "id": "c148bfe5",
   "metadata": {},
   "outputs": [],
   "source": [
    "# title, description, keyword\n",
    "import json\n",
    "\n",
    "with open(\"../data/input_data.json\", \"r\", encoding=\"utf-8\") as f:\n",
    "    input_data = json.load(f)\n",
    "\n",
    "try:\n",
    "    title = input_data['dataset_title_etc_main']\n",
    "    description = input_data['dataset_expl_etc_main']\n",
    "    keyword = input_data['dataset_expl_etc_main']\n",
    "    input_id = input_data['svc_id']\n",
    "\n",
    "except:\n",
    "    items = input_data[\"MetaData\"][\"recordList\"][\"record\"][\"item\"]\n",
    "    title = next(i[\"#text\"] for i in items if i[\"@metaCode\"] == \"Title\")\n",
    "    description = next(i[\"#text\"] for i in items if i[\"@metaCode\"] == \"Abstract\")\n",
    "    keyword = next(i[\"#text\"] for i in items if i[\"@metaCode\"] == \"Keyword\")\n",
    "    input_id = next(i[\"#text\"] for i in items if i[\"@metaCode\"] == \"CN\")\n",
    "    "
   ]
  },
  {
   "cell_type": "code",
   "execution_count": 52,
   "id": "b25fac43",
   "metadata": {},
   "outputs": [],
   "source": [
    "# data\n",
    "import pandas as pd\n",
    "\n",
    "df_article = pd.read_csv('../data/search_results_article.csv', encoding='UTF-8', low_memory=False)\n",
    "df_data = pd.read_csv('../data/search_results_dataset.csv', encoding='UTF-8', low_memory=False)\n",
    "\n",
    "cleaned_df_data = (\n",
    "    df_data[\n",
    "        ['svc_id', 'dataset_title_etc_main', 'dataset_expl_etc_main','dataset_pub_dt_pc', 'dataset_kywd_etc_main', 'dataset_creator_etc_main', 'dataset_lndgpg', 'query']\n",
    "    ]\n",
    "    .rename(\n",
    "        columns={\n",
    "            'svc_id': 'ID',\n",
    "            'dataset_title_etc_main': 'title',\n",
    "            'dataset_expl_etc_main': 'description',\n",
    "            'dataset_pub_dt_pc': 'pubyear',\n",
    "            'dataset_kywd_etc_main': 'keyword',\n",
    "            'dataset_creator_etc_main': 'author',\n",
    "            'dataset_lndgpg': 'URL',\n",
    "        }\n",
    "    )\n",
    ")\n",
    "cleaned_df_data['category'] = 'dataset'\n",
    "\n",
    "cleaned_df_arti = (\n",
    "    df_article[\n",
    "        ['CN', 'Title', 'Abstract', 'Pubyear', 'Keyword', 'Author', 'ContentURL', 'query']\n",
    "    ]\n",
    "    .rename(\n",
    "        columns={\n",
    "            'CN': 'ID',\n",
    "            'Title': 'title',\n",
    "            'Abstract': 'description',\n",
    "            'Pubyear': 'pubyear',\n",
    "            'Keyword': 'keyword',\n",
    "            'Author': 'author',\n",
    "            'ContentURL': 'URL'\n",
    "        }\n",
    "    )\n",
    ")\n",
    "cleaned_df_arti['category'] = 'article'\n",
    "\n",
    "df = pd.concat([cleaned_df_arti, cleaned_df_data], ignore_index=True)\n"
   ]
  },
  {
   "cell_type": "code",
   "execution_count": 53,
   "id": "b6ff3099",
   "metadata": {},
   "outputs": [],
   "source": [
    "# relevance_data\n",
    "relevance_df = pd.read_csv('../data/relevance_results.csv', encoding='UTF-8', low_memory=False)"
   ]
  },
  {
   "cell_type": "markdown",
   "id": "bee55eee",
   "metadata": {},
   "source": [
    "## 작동 방식"
   ]
  },
  {
   "cell_type": "code",
   "execution_count": 54,
   "id": "06c5070f",
   "metadata": {},
   "outputs": [
    {
     "data": {
      "application/vnd.microsoft.datawrangler.viewer.v0+json": {
       "columns": [
        {
         "name": "index",
         "rawType": "int64",
         "type": "integer"
        },
        {
         "name": "ID",
         "rawType": "object",
         "type": "string"
        },
        {
         "name": "relevance",
         "rawType": "float64",
         "type": "float"
        },
        {
         "name": "reason",
         "rawType": "object",
         "type": "string"
        }
       ],
       "ref": "d5dbbc45-1f78-4578-ad7d-35d32e4583a1",
       "rows": [
        [
         "0",
         "DIKO0010027329",
         "92.39493",
         "이 연구는 한국인의 3D 무릎 관절 모델을 구축하여, 한국인에 적합한 인공관절 개발에 직접적으로 연관됩니다."
        ],
        [
         "1",
         "NART73608690",
         "53.74156",
         "이 연구는 한국인의 무릎 관절 치수 파라미터를 측정하여, 한국인 맞춤형 인공관절 설계에 필요한 데이터를 제공합니다."
        ],
        [
         "2",
         "NART51664194",
         "51.529076",
         "이 연구는 MRI 이미지를 기반으로 3D 무릎 관절 모델을 재구성하여, 한국인의 무릎 관절 모델 구축에 기여할 수 있습니다."
        ],
        [
         "3",
         "f1bd34e52434a57a01b9ab55a6670891",
         "51.36759",
         "이 연구는 한국인 남녀의 무릎 관절 형상 및 치수 데이터를 제공하여, 인공관절 설계에 활용될 수 있는 기초 자료를 제공합니다."
        ],
        [
         "4",
         "NPAP13253595",
         "50.311615",
         "이 연구는 한국인 사체의 무릎관절 형상 모델을 다루고 있어, 한국인의 무릎 관절 특성을 이해하는 데 도움이 될 수 있습니다."
        ]
       ],
       "shape": {
        "columns": 3,
        "rows": 5
       }
      },
      "text/html": [
       "<div>\n",
       "<style scoped>\n",
       "    .dataframe tbody tr th:only-of-type {\n",
       "        vertical-align: middle;\n",
       "    }\n",
       "\n",
       "    .dataframe tbody tr th {\n",
       "        vertical-align: top;\n",
       "    }\n",
       "\n",
       "    .dataframe thead th {\n",
       "        text-align: right;\n",
       "    }\n",
       "</style>\n",
       "<table border=\"1\" class=\"dataframe\">\n",
       "  <thead>\n",
       "    <tr style=\"text-align: right;\">\n",
       "      <th></th>\n",
       "      <th>ID</th>\n",
       "      <th>relevance</th>\n",
       "      <th>reason</th>\n",
       "    </tr>\n",
       "  </thead>\n",
       "  <tbody>\n",
       "    <tr>\n",
       "      <th>0</th>\n",
       "      <td>DIKO0010027329</td>\n",
       "      <td>92.394930</td>\n",
       "      <td>이 연구는 한국인의 3D 무릎 관절 모델을 구축하여, 한국인에 적합한 인공관절 개발...</td>\n",
       "    </tr>\n",
       "    <tr>\n",
       "      <th>1</th>\n",
       "      <td>NART73608690</td>\n",
       "      <td>53.741560</td>\n",
       "      <td>이 연구는 한국인의 무릎 관절 치수 파라미터를 측정하여, 한국인 맞춤형 인공관절 설...</td>\n",
       "    </tr>\n",
       "    <tr>\n",
       "      <th>2</th>\n",
       "      <td>NART51664194</td>\n",
       "      <td>51.529076</td>\n",
       "      <td>이 연구는 MRI 이미지를 기반으로 3D 무릎 관절 모델을 재구성하여, 한국인의 무...</td>\n",
       "    </tr>\n",
       "    <tr>\n",
       "      <th>3</th>\n",
       "      <td>f1bd34e52434a57a01b9ab55a6670891</td>\n",
       "      <td>51.367590</td>\n",
       "      <td>이 연구는 한국인 남녀의 무릎 관절 형상 및 치수 데이터를 제공하여, 인공관절 설계...</td>\n",
       "    </tr>\n",
       "    <tr>\n",
       "      <th>4</th>\n",
       "      <td>NPAP13253595</td>\n",
       "      <td>50.311615</td>\n",
       "      <td>이 연구는 한국인 사체의 무릎관절 형상 모델을 다루고 있어, 한국인의 무릎 관절 특...</td>\n",
       "    </tr>\n",
       "  </tbody>\n",
       "</table>\n",
       "</div>"
      ],
      "text/plain": [
       "                                 ID  relevance  \\\n",
       "0                    DIKO0010027329  92.394930   \n",
       "1                      NART73608690  53.741560   \n",
       "2                      NART51664194  51.529076   \n",
       "3  f1bd34e52434a57a01b9ab55a6670891  51.367590   \n",
       "4                      NPAP13253595  50.311615   \n",
       "\n",
       "                                              reason  \n",
       "0  이 연구는 한국인의 3D 무릎 관절 모델을 구축하여, 한국인에 적합한 인공관절 개발...  \n",
       "1  이 연구는 한국인의 무릎 관절 치수 파라미터를 측정하여, 한국인 맞춤형 인공관절 설...  \n",
       "2  이 연구는 MRI 이미지를 기반으로 3D 무릎 관절 모델을 재구성하여, 한국인의 무...  \n",
       "3  이 연구는 한국인 남녀의 무릎 관절 형상 및 치수 데이터를 제공하여, 인공관절 설계...  \n",
       "4  이 연구는 한국인 사체의 무릎관절 형상 모델을 다루고 있어, 한국인의 무릎 관절 특...  "
      ]
     },
     "metadata": {},
     "output_type": "display_data"
    }
   ],
   "source": [
    "# Node\n",
    "from langchain_openai import ChatOpenAI\n",
    "\n",
    "relevant_ids = relevance_df['ID'].tolist()\n",
    "filtered_df = df[df['ID'].isin(relevant_ids)]\n",
    "\n",
    "prompt = reason_prompt.invoke(\n",
    "    {\n",
    "        'title': title, \n",
    "        'description': description,\n",
    "        'keyword': keyword,\n",
    "        'data': filtered_df[['ID', 'title', 'description', 'keyword']].to_dict(orient=\"records\"),\n",
    "    }\n",
    ")\n",
    "\n",
    "sllm = ChatOpenAI(model='gpt-4o-mini', temperature=0)\n",
    "\n",
    "structured_sllm = sllm.with_structured_output(IDRelevance)\n",
    "res = structured_sllm.invoke(prompt)\n",
    "    \n",
    "tmp = pd.DataFrame({\n",
    "    'ID': res.relevant_id,\n",
    "    'reason': res.reason\n",
    "})\n",
    "\n",
    "relevance_df = pd.merge(\n",
    "    relevance_df[['ID', 'relevance']],\n",
    "    tmp,\n",
    "    on='ID',\n",
    "    how='left'\n",
    ")\n",
    "\n",
    "relevance_df.to_csv('../data/relevance_results.csv', index=False, encoding='utf-8')\n",
    "\n",
    "display(relevance_df)"
   ]
  }
 ],
 "metadata": {
  "kernelspec": {
   "display_name": "venv",
   "language": "python",
   "name": "python3"
  },
  "language_info": {
   "codemirror_mode": {
    "name": "ipython",
    "version": 3
   },
   "file_extension": ".py",
   "mimetype": "text/x-python",
   "name": "python",
   "nbconvert_exporter": "python",
   "pygments_lexer": "ipython3",
   "version": "3.13.2"
  }
 },
 "nbformat": 4,
 "nbformat_minor": 5
}
