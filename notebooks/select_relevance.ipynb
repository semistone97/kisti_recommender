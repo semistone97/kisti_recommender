{
 "cells": [
  {
   "cell_type": "markdown",
   "id": "56bf2391",
   "metadata": {},
   "source": [
    "# 연관된 데이터 선정"
   ]
  },
  {
   "cell_type": "code",
   "execution_count": 6,
   "id": "039bc6d7",
   "metadata": {},
   "outputs": [],
   "source": [
    "# 프롬프트\n",
    "from langchain_core.prompts import PromptTemplate\n",
    "\n",
    "# Prompt\n",
    "relevance_template = '''\n",
    "당신은 데이터 과학자입니다. 아래는 연구 데이터 목록입니다.\n",
    "\n",
    "각 데이터 항목은 다음 컬럼을 가지고 있습니다:\n",
    "- ID: 각 데이터의 고유키\n",
    "- 제목\n",
    "- 설명\n",
    "\n",
    "[목표]\n",
    "주어진 연구 주제와 가장 관련성 높은 3~5개의 데이터 항목을 선택하세요.\n",
    "각 항목에 대해 관련도 점수(0~100)와 선정 사유를 함께 작성하세요.\n",
    "\n",
    "\n",
    "[Input]\n",
    "연구 주제: {subject}\n",
    "연구 설명: {description}\n",
    "\n",
    "[Data]\n",
    "데이터 목록:\n",
    "{data}\n",
    "\n",
    "[Output]\n",
    "다음 형식의 JSON을 출력하세요:\n",
    "\n",
    "{{\n",
    "  \"relevant_id\": [],\n",
    "  \"relevance\": [],\n",
    "  \"reason\": []\n",
    "}}\n",
    "'''\n",
    "\n",
    "relevance_prompt = PromptTemplate.from_template(relevance_template)\n"
   ]
  },
  {
   "cell_type": "code",
   "execution_count": 7,
   "id": "1fce9cb3",
   "metadata": {},
   "outputs": [],
   "source": [
    "# Schema\n",
    "from typing_extensions import Annotated\n",
    "from pydantic import Field, BaseModel, conint\n",
    "\n",
    "# Schema\n",
    "class IDRelevance(BaseModel):\n",
    "    relevant_id: Annotated[\n",
    "        list[str],\n",
    "        Field(\n",
    "            ..., \n",
    "            max_length=5, \n",
    "            min_length=3,\n",
    "            description=(\n",
    "                \"가장 관련성이 높은 데이터의 ID 목록, 길이 최소 3개/최대 5개\"\n",
    "                \"각 ID에 대해 relevance(관련도 점수)와 reason(선정 사유)을 동일한 인덱스 위치에 작성합니다. \"\n",
    "            ), \n",
    "        )\n",
    "    ]\n",
    "    relevance: Annotated[\n",
    "        list[\n",
    "            Annotated[\n",
    "                int, \n",
    "                Field(ge=0, le=100, description=\"0~100 정수\")\n",
    "            ]\n",
    "        ],\n",
    "        Field(\n",
    "            ..., \n",
    "            max_length=5, \n",
    "            min_length=3,\n",
    "            description=\"각 ID에 대응하는 관련도 점수 (0~100 정수)\",\n",
    "        )\n",
    "    ]\n",
    "    reason: Annotated[\n",
    "        list[str],\n",
    "        Field(\n",
    "            ..., \n",
    "            max_length=5, \n",
    "            min_length=3,\n",
    "            description=\"각 ID가 선정된 이유를 설명하는 문자열 목록. relevant_id와 인덱스가 일치해야 합니다.\",\n",
    "        )\n",
    "    ]"
   ]
  },
  {
   "cell_type": "code",
   "execution_count": 8,
   "id": "f71a1b95",
   "metadata": {},
   "outputs": [
    {
     "name": "stdout",
     "output_type": "stream",
     "text": [
      "\n",
      "[Result DataFrame]\n",
      "\n"
     ]
    },
    {
     "data": {
      "application/vnd.microsoft.datawrangler.viewer.v0+json": {
       "columns": [
        {
         "name": "index",
         "rawType": "int64",
         "type": "integer"
        },
        {
         "name": "relevant_id",
         "rawType": "object",
         "type": "string"
        },
        {
         "name": "relevance",
         "rawType": "int64",
         "type": "integer"
        },
        {
         "name": "reason",
         "rawType": "object",
         "type": "string"
        }
       ],
       "ref": "aaac6bd1-cde6-41c5-b3eb-eb78a1666705",
       "rows": [
        [
         "0",
         "b37f0c9413eeb7c45f6fe31cbe3a41ef",
         "100",
         "This dataset directly pertains to the 'Architectural Urbanism: Melbourne/Seoul' exhibition, showcasing KTA projects, making it the most relevant."
        ],
        [
         "1",
         "a83eb22a4a62949d83c70662acdf439a",
         "90",
         "This dataset includes works by Baracco + Wright Architects, which were also part of the 'Architectural Urbanism' exhibition, emphasizing urban interventions."
        ],
        [
         "2",
         "90ca58cfe0896194588fe73299e585f1",
         "85",
         "Grace Park House is a significant project that was included in the 'Architectural Urbanism' exhibition, showcasing innovative urban design."
        ],
        [
         "3",
         "4f8e04de8044dd201965353514748c13",
         "80",
         "Urban Box is another project featured in the 'Architectural Urbanism' exhibition, focusing on sustainable infill housing in Melbourne."
        ],
        [
         "4",
         "5a27d0958baf27c7372453fe940b4db0",
         "75",
         "The Geelong Library and Heritage Centre represents a modern civic architecture project that aligns with the themes of urbanism and community engagement."
        ]
       ],
       "shape": {
        "columns": 3,
        "rows": 5
       }
      },
      "text/html": [
       "<div>\n",
       "<style scoped>\n",
       "    .dataframe tbody tr th:only-of-type {\n",
       "        vertical-align: middle;\n",
       "    }\n",
       "\n",
       "    .dataframe tbody tr th {\n",
       "        vertical-align: top;\n",
       "    }\n",
       "\n",
       "    .dataframe thead th {\n",
       "        text-align: right;\n",
       "    }\n",
       "</style>\n",
       "<table border=\"1\" class=\"dataframe\">\n",
       "  <thead>\n",
       "    <tr style=\"text-align: right;\">\n",
       "      <th></th>\n",
       "      <th>relevant_id</th>\n",
       "      <th>relevance</th>\n",
       "      <th>reason</th>\n",
       "    </tr>\n",
       "  </thead>\n",
       "  <tbody>\n",
       "    <tr>\n",
       "      <th>0</th>\n",
       "      <td>b37f0c9413eeb7c45f6fe31cbe3a41ef</td>\n",
       "      <td>100</td>\n",
       "      <td>This dataset directly pertains to the 'Archite...</td>\n",
       "    </tr>\n",
       "    <tr>\n",
       "      <th>1</th>\n",
       "      <td>a83eb22a4a62949d83c70662acdf439a</td>\n",
       "      <td>90</td>\n",
       "      <td>This dataset includes works by Baracco + Wrigh...</td>\n",
       "    </tr>\n",
       "    <tr>\n",
       "      <th>2</th>\n",
       "      <td>90ca58cfe0896194588fe73299e585f1</td>\n",
       "      <td>85</td>\n",
       "      <td>Grace Park House is a significant project that...</td>\n",
       "    </tr>\n",
       "    <tr>\n",
       "      <th>3</th>\n",
       "      <td>4f8e04de8044dd201965353514748c13</td>\n",
       "      <td>80</td>\n",
       "      <td>Urban Box is another project featured in the '...</td>\n",
       "    </tr>\n",
       "    <tr>\n",
       "      <th>4</th>\n",
       "      <td>5a27d0958baf27c7372453fe940b4db0</td>\n",
       "      <td>75</td>\n",
       "      <td>The Geelong Library and Heritage Centre repres...</td>\n",
       "    </tr>\n",
       "  </tbody>\n",
       "</table>\n",
       "</div>"
      ],
      "text/plain": [
       "                        relevant_id  relevance  \\\n",
       "0  b37f0c9413eeb7c45f6fe31cbe3a41ef        100   \n",
       "1  a83eb22a4a62949d83c70662acdf439a         90   \n",
       "2  90ca58cfe0896194588fe73299e585f1         85   \n",
       "3  4f8e04de8044dd201965353514748c13         80   \n",
       "4  5a27d0958baf27c7372453fe940b4db0         75   \n",
       "\n",
       "                                              reason  \n",
       "0  This dataset directly pertains to the 'Archite...  \n",
       "1  This dataset includes works by Baracco + Wrigh...  \n",
       "2  Grace Park House is a significant project that...  \n",
       "3  Urban Box is another project featured in the '...  \n",
       "4  The Geelong Library and Heritage Centre repres...  "
      ]
     },
     "metadata": {},
     "output_type": "display_data"
    }
   ],
   "source": [
    "from langchain_openai import ChatOpenAI\n",
    "import pandas as pd\n",
    "import json\n",
    "\n",
    "\n",
    "df = pd.read_csv('../data/search_results.csv', encoding='UTF-8', low_memory=False)\n",
    "\n",
    "with open(\"../data/input_data.json\", \"r\", encoding=\"utf-8\") as f:\n",
    "    input_data = json.load(f)\n",
    "    \n",
    "subject, description = input_data['dataset_title_etc_main'], input_data['dataset_expl_etc_main']\n",
    "\n",
    "\n",
    "prompt = relevance_prompt.invoke(\n",
    "    {\n",
    "        'subject': subject, \n",
    "        'description': description,\n",
    "        'data': df[['svc_id', 'dataset_title_etc_main', 'dataset_expl_etc_main']].to_dict(orient=\"records\"),\n",
    "    }\n",
    ")\n",
    "\n",
    "# sLLM\n",
    "sllm = ChatOpenAI(model='gpt-4o-mini', temperature=0)\n",
    "\n",
    "structured_sllm = sllm.with_structured_output(IDRelevance)\n",
    "res = structured_sllm.invoke(prompt)\n",
    "\n",
    "result_df = pd.DataFrame({\n",
    "    'relevant_id': res.relevant_id,\n",
    "    'relevance': res.relevance,\n",
    "    'reason': res.reason\n",
    "})\n",
    "\n",
    "print('\\n[Result DataFrame]\\n')\n",
    "display(result_df)"
   ]
  }
 ],
 "metadata": {
  "kernelspec": {
   "display_name": "venv",
   "language": "python",
   "name": "python3"
  },
  "language_info": {
   "codemirror_mode": {
    "name": "ipython",
    "version": 3
   },
   "file_extension": ".py",
   "mimetype": "text/x-python",
   "name": "python",
   "nbconvert_exporter": "python",
   "pygments_lexer": "ipython3",
   "version": "3.13.2"
  }
 },
 "nbformat": 4,
 "nbformat_minor": 5
}
